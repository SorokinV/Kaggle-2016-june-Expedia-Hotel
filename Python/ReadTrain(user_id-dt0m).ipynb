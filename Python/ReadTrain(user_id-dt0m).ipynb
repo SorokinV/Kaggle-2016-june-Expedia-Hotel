{
 "cells": [
  {
   "cell_type": "code",
   "execution_count": 2,
   "metadata": {
    "collapsed": false
   },
   "outputs": [],
   "source": [
    "import os.path\n",
    "import datetime\n",
    "\n",
    "import numpy  as np\n",
    "import pandas as pd"
   ]
  },
  {
   "cell_type": "code",
   "execution_count": 3,
   "metadata": {
    "collapsed": false
   },
   "outputs": [
    {
     "data": {
      "text/plain": [
       "['user_id', 'dt0m', 'is_booking', 'cnt', 'hotel_cluster']"
      ]
     },
     "execution_count": 3,
     "metadata": {},
     "output_type": "execute_result"
    }
   ],
   "source": [
    "# Constants\n",
    "\n",
    "dataDir    = '../Data'\n",
    "pickleDir  = '../Data/Pickle'\n",
    "pickleDir1 = os.path.join(pickleDir,'Result-01')\n",
    "pickleDir2 = os.path.join(pickleDir,'Result-02')\n",
    "cols1      = ['user_id','dt0m','is_booking','cnt','hotel_cluster']\n",
    "\n",
    "nLargest = 5\n",
    "nCluster = 100\n",
    "cols1"
   ]
  },
  {
   "cell_type": "code",
   "execution_count": 4,
   "metadata": {
    "collapsed": false
   },
   "outputs": [
    {
     "name": "stdout",
     "output_type": "stream",
     "text": [
      "                         user_id  dt0m  is_booking  cnt  hotel_cluster\n",
      "user_id dt0m is_booking                                               \n",
      "0       9    0                 0     9           0    1             19\n",
      "        12   0                 0    12           0    1             98\n",
      "             0                 0    12           0    1             40\n",
      "             0                 0    12           0    1             56\n",
      "             0                 0    12           0    2             72\n",
      "                         user_id  dt0m  is_booking  cnt  hotel_cluster\n",
      "user_id dt0m is_booking                                               \n",
      "1198784 4    0           1198784     4           0    2             26\n",
      "        8    0           1198784     8           0    1             79\n",
      "             1           1198784     8           1    1             79\n",
      "1198785 7    0           1198785     7           0    2             76\n",
      "             0           1198785     7           0    1             76\n"
     ]
    }
   ],
   "source": [
    "# Read train.csv or if exists train-user-id-book then picle saved file\n",
    "train_pickle = os.path.join(pickleDir,'trainx-user-id-dt0m-book.pkl')\n",
    "if os.path.exists(train_pickle) :\n",
    "    trainx = pd.read_pickle(train_pickle)\n",
    "else :\n",
    "    trainx = pd.read_csv(os.path.join(dataDir,'trainExt.csv'),usecols=cols1,\n",
    "                     dtype={'user_id':int,'dt0m':int,'is_booking':int,'cnt':int,'hotel_cluster':int})\n",
    "    print('trainx.shape = ',trainx.shape)\n",
    "    trainx.index = [trainx.user_id,trainx.dt0m,trainx.is_booking]\n",
    "    print('trainx.columns = ',trainx.columns)\n",
    "    trainx = trainx.sort_index(kind='quicksort')\n",
    "    trainx.to_pickle(train_pickle)\n",
    "print(trainx.head())\n",
    "print(trainx.tail())"
   ]
  },
  {
   "cell_type": "code",
   "execution_count": null,
   "metadata": {
    "collapsed": false
   },
   "outputs": [],
   "source": []
  },
  {
   "cell_type": "code",
   "execution_count": 5,
   "metadata": {
    "collapsed": false
   },
   "outputs": [
    {
     "data": {
      "text/html": [
       "<div>\n",
       "<table border=\"1\" class=\"dataframe\">\n",
       "  <thead>\n",
       "    <tr style=\"text-align: right;\">\n",
       "      <th></th>\n",
       "      <th></th>\n",
       "      <th></th>\n",
       "      <th>user_id</th>\n",
       "      <th>dt0m</th>\n",
       "      <th>is_booking</th>\n",
       "      <th>cnt</th>\n",
       "      <th>hotel_cluster</th>\n",
       "    </tr>\n",
       "    <tr>\n",
       "      <th>user_id</th>\n",
       "      <th>dt0m</th>\n",
       "      <th>is_booking</th>\n",
       "      <th></th>\n",
       "      <th></th>\n",
       "      <th></th>\n",
       "      <th></th>\n",
       "      <th></th>\n",
       "    </tr>\n",
       "  </thead>\n",
       "  <tbody>\n",
       "    <tr>\n",
       "      <th rowspan=\"6\" valign=\"top\">0</th>\n",
       "      <th>9</th>\n",
       "      <th>0</th>\n",
       "      <td>0</td>\n",
       "      <td>9</td>\n",
       "      <td>0</td>\n",
       "      <td>1</td>\n",
       "      <td>19</td>\n",
       "    </tr>\n",
       "    <tr>\n",
       "      <th rowspan=\"5\" valign=\"top\">12</th>\n",
       "      <th>0</th>\n",
       "      <td>0</td>\n",
       "      <td>12</td>\n",
       "      <td>0</td>\n",
       "      <td>1</td>\n",
       "      <td>98</td>\n",
       "    </tr>\n",
       "    <tr>\n",
       "      <th>0</th>\n",
       "      <td>0</td>\n",
       "      <td>12</td>\n",
       "      <td>0</td>\n",
       "      <td>1</td>\n",
       "      <td>40</td>\n",
       "    </tr>\n",
       "    <tr>\n",
       "      <th>0</th>\n",
       "      <td>0</td>\n",
       "      <td>12</td>\n",
       "      <td>0</td>\n",
       "      <td>1</td>\n",
       "      <td>56</td>\n",
       "    </tr>\n",
       "    <tr>\n",
       "      <th>0</th>\n",
       "      <td>0</td>\n",
       "      <td>12</td>\n",
       "      <td>0</td>\n",
       "      <td>2</td>\n",
       "      <td>72</td>\n",
       "    </tr>\n",
       "    <tr>\n",
       "      <th>0</th>\n",
       "      <td>0</td>\n",
       "      <td>12</td>\n",
       "      <td>0</td>\n",
       "      <td>1</td>\n",
       "      <td>28</td>\n",
       "    </tr>\n",
       "  </tbody>\n",
       "</table>\n",
       "</div>"
      ],
      "text/plain": [
       "                         user_id  dt0m  is_booking  cnt  hotel_cluster\n",
       "user_id dt0m is_booking                                               \n",
       "0       9    0                 0     9           0    1             19\n",
       "        12   0                 0    12           0    1             98\n",
       "             0                 0    12           0    1             40\n",
       "             0                 0    12           0    1             56\n",
       "             0                 0    12           0    2             72\n",
       "             0                 0    12           0    1             28"
      ]
     },
     "execution_count": 5,
     "metadata": {},
     "output_type": "execute_result"
    }
   ],
   "source": [
    "trainx[trainx.user_id==0]"
   ]
  },
  {
   "cell_type": "code",
   "execution_count": 6,
   "metadata": {
    "collapsed": false
   },
   "outputs": [
    {
     "data": {
      "text/html": [
       "<div>\n",
       "<table border=\"1\" class=\"dataframe\">\n",
       "  <thead>\n",
       "    <tr style=\"text-align: right;\">\n",
       "      <th></th>\n",
       "      <th></th>\n",
       "      <th></th>\n",
       "      <th>user_id</th>\n",
       "      <th>dt0m</th>\n",
       "      <th>is_booking</th>\n",
       "      <th>cnt</th>\n",
       "      <th>hotel_cluster</th>\n",
       "    </tr>\n",
       "    <tr>\n",
       "      <th>user_id</th>\n",
       "      <th>dt0m</th>\n",
       "      <th>is_booking</th>\n",
       "      <th></th>\n",
       "      <th></th>\n",
       "      <th></th>\n",
       "      <th></th>\n",
       "      <th></th>\n",
       "    </tr>\n",
       "  </thead>\n",
       "  <tbody>\n",
       "    <tr>\n",
       "      <th rowspan=\"5\" valign=\"top\">0</th>\n",
       "      <th>9</th>\n",
       "      <th>0</th>\n",
       "      <td>0</td>\n",
       "      <td>9</td>\n",
       "      <td>0</td>\n",
       "      <td>1</td>\n",
       "      <td>19</td>\n",
       "    </tr>\n",
       "    <tr>\n",
       "      <th rowspan=\"4\" valign=\"top\">12</th>\n",
       "      <th>0</th>\n",
       "      <td>0</td>\n",
       "      <td>12</td>\n",
       "      <td>0</td>\n",
       "      <td>1</td>\n",
       "      <td>98</td>\n",
       "    </tr>\n",
       "    <tr>\n",
       "      <th>0</th>\n",
       "      <td>0</td>\n",
       "      <td>12</td>\n",
       "      <td>0</td>\n",
       "      <td>1</td>\n",
       "      <td>40</td>\n",
       "    </tr>\n",
       "    <tr>\n",
       "      <th>0</th>\n",
       "      <td>0</td>\n",
       "      <td>12</td>\n",
       "      <td>0</td>\n",
       "      <td>1</td>\n",
       "      <td>56</td>\n",
       "    </tr>\n",
       "    <tr>\n",
       "      <th>0</th>\n",
       "      <td>0</td>\n",
       "      <td>12</td>\n",
       "      <td>0</td>\n",
       "      <td>2</td>\n",
       "      <td>72</td>\n",
       "    </tr>\n",
       "  </tbody>\n",
       "</table>\n",
       "</div>"
      ],
      "text/plain": [
       "                         user_id  dt0m  is_booking  cnt  hotel_cluster\n",
       "user_id dt0m is_booking                                               \n",
       "0       9    0                 0     9           0    1             19\n",
       "        12   0                 0    12           0    1             98\n",
       "             0                 0    12           0    1             40\n",
       "             0                 0    12           0    1             56\n",
       "             0                 0    12           0    2             72"
      ]
     },
     "execution_count": 6,
     "metadata": {},
     "output_type": "execute_result"
    }
   ],
   "source": [
    "trainx.head()"
   ]
  },
  {
   "cell_type": "code",
   "execution_count": 7,
   "metadata": {
    "collapsed": false
   },
   "outputs": [
    {
     "data": {
      "text/html": [
       "<div>\n",
       "<table border=\"1\" class=\"dataframe\">\n",
       "  <thead>\n",
       "    <tr style=\"text-align: right;\">\n",
       "      <th></th>\n",
       "      <th></th>\n",
       "      <th></th>\n",
       "      <th>user_id</th>\n",
       "      <th>dt0m</th>\n",
       "      <th>is_booking</th>\n",
       "      <th>cnt</th>\n",
       "      <th>hotel_cluster</th>\n",
       "    </tr>\n",
       "    <tr>\n",
       "      <th>user_id</th>\n",
       "      <th>dt0m</th>\n",
       "      <th>is_booking</th>\n",
       "      <th></th>\n",
       "      <th></th>\n",
       "      <th></th>\n",
       "      <th></th>\n",
       "      <th></th>\n",
       "    </tr>\n",
       "  </thead>\n",
       "  <tbody>\n",
       "    <tr>\n",
       "      <th rowspan=\"3\" valign=\"top\">1198784</th>\n",
       "      <th>4</th>\n",
       "      <th>0</th>\n",
       "      <td>1198784</td>\n",
       "      <td>4</td>\n",
       "      <td>0</td>\n",
       "      <td>2</td>\n",
       "      <td>26</td>\n",
       "    </tr>\n",
       "    <tr>\n",
       "      <th rowspan=\"2\" valign=\"top\">8</th>\n",
       "      <th>0</th>\n",
       "      <td>1198784</td>\n",
       "      <td>8</td>\n",
       "      <td>0</td>\n",
       "      <td>1</td>\n",
       "      <td>79</td>\n",
       "    </tr>\n",
       "    <tr>\n",
       "      <th>1</th>\n",
       "      <td>1198784</td>\n",
       "      <td>8</td>\n",
       "      <td>1</td>\n",
       "      <td>1</td>\n",
       "      <td>79</td>\n",
       "    </tr>\n",
       "    <tr>\n",
       "      <th rowspan=\"2\" valign=\"top\">1198785</th>\n",
       "      <th rowspan=\"2\" valign=\"top\">7</th>\n",
       "      <th>0</th>\n",
       "      <td>1198785</td>\n",
       "      <td>7</td>\n",
       "      <td>0</td>\n",
       "      <td>2</td>\n",
       "      <td>76</td>\n",
       "    </tr>\n",
       "    <tr>\n",
       "      <th>0</th>\n",
       "      <td>1198785</td>\n",
       "      <td>7</td>\n",
       "      <td>0</td>\n",
       "      <td>1</td>\n",
       "      <td>76</td>\n",
       "    </tr>\n",
       "  </tbody>\n",
       "</table>\n",
       "</div>"
      ],
      "text/plain": [
       "                         user_id  dt0m  is_booking  cnt  hotel_cluster\n",
       "user_id dt0m is_booking                                               \n",
       "1198784 4    0           1198784     4           0    2             26\n",
       "        8    0           1198784     8           0    1             79\n",
       "             1           1198784     8           1    1             79\n",
       "1198785 7    0           1198785     7           0    2             76\n",
       "             0           1198785     7           0    1             76"
      ]
     },
     "execution_count": 7,
     "metadata": {},
     "output_type": "execute_result"
    }
   ],
   "source": [
    "trainx.tail()"
   ]
  },
  {
   "cell_type": "code",
   "execution_count": null,
   "metadata": {
    "collapsed": false
   },
   "outputs": [],
   "source": []
  },
  {
   "cell_type": "code",
   "execution_count": 20,
   "metadata": {
    "collapsed": false
   },
   "outputs": [
    {
     "name": "stdout",
     "output_type": "stream",
     "text": [
      "0 1198785\n",
      "64 [(0, 19000), (19000, 38000), (38000, 57000), (57000, 76000), (76000, 95000)] [(1159000, 1178000), (1178000, 1197000), (1197000, 1198786)]\n"
     ]
    }
   ],
   "source": [
    "# build list for partitional work\n",
    "lpiece = 19000\n",
    "lmin = trainx['user_id'].min()\n",
    "lmax = trainx['user_id'].max()\n",
    "print(lmin,lmax)\n",
    "\n",
    "lend = lmax+1\n",
    "l = [i for i in range(0,lend,lpiece)]\n",
    "if (l[len(l)-1]!=lend) : l.append(lend)\n",
    "    \n",
    "mm = [(l[i],l[i+1]) for i in range(len(l)-1)]\n",
    "print(len(mm),mm[0:5],mm[-3:])"
   ]
  },
  {
   "cell_type": "code",
   "execution_count": null,
   "metadata": {
    "collapsed": false
   },
   "outputs": [],
   "source": []
  },
  {
   "cell_type": "code",
   "execution_count": 15,
   "metadata": {
    "collapsed": true
   },
   "outputs": [],
   "source": [
    "# Function for apply function: count counts, and build arrays for hostel_clusters\n",
    "i        = -1\n",
    "x00x     = [-1]*nLargest\n",
    "\n",
    "dcol = ['count','countCnt'] + ['n'+str(i) for i in range(nLargest)]  + ['v'+str(i) for i in range(nLargest)] \n",
    "\n",
    "def fApply (xgroup) :\n",
    "    global i,nLargest,nCluster\n",
    "    ygroup = xgroup[['hotel_cluster','cnt']].groupby('hotel_cluster').sum().reset_index()\n",
    "    d00  = np.zeros((nCluster),dtype=np.int16); d00[ygroup['hotel_cluster']]+=ygroup['cnt']\n",
    "    dsum = xgroup['cnt'].sum()\n",
    "    dcnt = len(xgroup)\n",
    "    d05  = pd.Series(d00); \n",
    "    n05=d05[d05>0].nlargest(nLargest).index.tolist()+x00x; n05=n05[0:nLargest];\n",
    "    v05=d05[d05>0].nlargest(nLargest).tolist()+x00x;       v05=v05[0:nLargest];\n",
    "    ddd  = [dcnt,dsum] + n05 + v05 # + d00.tolist()\n",
    "    #i   += 1\n",
    "    #if (i%10000==0) : print('5 :',datetime.datetime.now(),\" i = \",i,\" len-xgroup =\",len(xgroup),ddd)\n",
    "\n",
    "    \n",
    "    return(pd.DataFrame(ddd,index=dcol,dtype=int).T)\n",
    "\n"
   ]
  },
  {
   "cell_type": "code",
   "execution_count": 18,
   "metadata": {
    "collapsed": true
   },
   "outputs": [],
   "source": [
    "# Function for split and join arrays for is_booking {True,False}\n",
    "def fJoin (transx,nn,filepickle) :\n",
    "    trans0 = transx.query('is_booking==0')[['user_id','dt0m','is_booking','count','countCnt']+ \\\n",
    "                                              ['n'+str(i) for i in range(nn)]+['v'+str(i) for i in range(nn)]]\n",
    "    trans0.index = [trans0.user_id, trans0.dt0m]\n",
    "    trans0.dtype = int\n",
    "    #print(trans0.head())\n",
    "\n",
    "    trans1 = transx.query('is_booking==1')[['user_id','dt0m','is_booking','count','countCnt']+ \\\n",
    "                                             ['n'+str(i) for i in range(nn)]+['v'+str(i) for i in range(nn)]]\n",
    "    trans1.index = [trans1.user_id, trans1.dt0m]\n",
    "    trans1.dtype = int\n",
    "    #print(trans1.head())\n",
    "\n",
    "    trans01 = pd.concat([trans0,trans1],axis=1)\n",
    "    trans01.columns = ['user_id','dt0m','bo0','count0','countCnt0']+['b0n'+str(i) for i in range(nn)]+['b0v'+str(i) for i in range(nn)]+ \\\n",
    "                        ['h1','dt0m1','bo1','count1','countCnt1']+['b1n'+str(i) for i in range(nn)]+['b1v'+str(i) for i in range(nn)]\n",
    "    trans01 = trans01[['user_id','dt0m','count0','countCnt0','count1','countCnt1'] + \\\n",
    "                      ['b0n'+str(i) for i in range(nn)]+['b1n'+str(i) for i in range(nn)]+ \\\n",
    "                      ['b0v'+str(i) for i in range(nn)]+['b1v'+str(i) for i in range(nn)]]\n",
    "    trans01.dtype = int\n",
    "    \n",
    "    trans01.to_pickle(filepickle)\n",
    "    \n",
    "    return(trans01)\n"
   ]
  },
  {
   "cell_type": "code",
   "execution_count": null,
   "metadata": {
    "collapsed": false
   },
   "outputs": [
    {
     "name": "stdout",
     "output_type": "stream",
     "text": [
      "4 : 2016-05-28 05:24:47.223841  i1,i2= 0 19000\n"
     ]
    },
    {
     "name": "stderr",
     "output_type": "stream",
     "text": [
      "C:\\Anaconda3-64\\lib\\site-packages\\ipykernel\\__main__.py:10: VisibleDeprecationWarning: using a non-integer number instead of an integer will result in an error in the future\n"
     ]
    },
    {
     "name": "stdout",
     "output_type": "stream",
     "text": [
      "5 : 2016-05-28 05:24:50.219811  i =  0  len-xgroup = 1 [1, 1, 19, -1, -1, -1, -1, 1, -1, -1, -1, -1]\n",
      "5 : 2016-05-28 05:26:01.811403  i =  10000  len-xgroup = 1 [1, 1, 37, -1, -1, -1, -1, 1, -1, -1, -1, -1]\n",
      "5 : 2016-05-28 05:27:18.306478  i =  20000  len-xgroup = 11 [11, 13, 59, 3, 40, 5, 30, 3, 2, 2, 1, 1]\n",
      "5 : 2016-05-28 05:28:44.111636  i =  30000  len-xgroup = 18 [18, 43, 85, 36, 62, 57, 99, 19, 7, 5, 4, 4]\n"
     ]
    }
   ],
   "source": [
    "# Main body for calculate partition and save in file\n",
    "fres = []\n",
    "i1,i2 = 10000,20000\n",
    "for i1,i2 in mm :\n",
    "    print('4 :',datetime.datetime.now(),' i1,i2=',i1,i2)\n",
    "    cond = '('+str(i1)+'<=user_id)&(user_id<'+str(i2)+')'\n",
    "    grouped100 = trainx.query(cond).groupby(['user_id','dt0m','is_booking']); \n",
    "    #print('user+book =',len(grouped100))\n",
    "    #print('before fApply:',datetime.datetime.now())\n",
    "    i       = -1\n",
    "    trans   = grouped100.apply(fApply);\n",
    "    #print('after fApply:',datetime.datetime.now())\n",
    "    trans   = trans.reset_index()\n",
    "    #print('before fJoin:',datetime.datetime.now())\n",
    "    ffile   = os.path.join(pickleDir,'trans01-'+str(i1+1000000000)+'.pck')\n",
    "    trans01 = fJoin(trans,nLargest,ffile)\n",
    "    fres.append(ffile)\n",
    "    print('6 :',datetime.datetime.now(),trans01.shape)\n",
    "    \n",
    "print('7 :',datetime.datetime.now())\n",
    "print('fres=',len(fres))\n",
    "trans01.head()"
   ]
  },
  {
   "cell_type": "code",
   "execution_count": 113,
   "metadata": {
    "collapsed": false
   },
   "outputs": [
    {
     "data": {
      "text/html": [
       "<div>\n",
       "<table border=\"1\" class=\"dataframe\">\n",
       "  <thead>\n",
       "    <tr style=\"text-align: right;\">\n",
       "      <th></th>\n",
       "      <th>user_id</th>\n",
       "      <th>count0</th>\n",
       "      <th>countCnt0</th>\n",
       "      <th>count1</th>\n",
       "      <th>countCnt1</th>\n",
       "      <th>b0n0</th>\n",
       "      <th>b0n1</th>\n",
       "      <th>b0n2</th>\n",
       "      <th>b0n3</th>\n",
       "      <th>b0n4</th>\n",
       "      <th>...</th>\n",
       "      <th>b0v0</th>\n",
       "      <th>b0v1</th>\n",
       "      <th>b0v2</th>\n",
       "      <th>b0v3</th>\n",
       "      <th>b0v4</th>\n",
       "      <th>b1v0</th>\n",
       "      <th>b1v1</th>\n",
       "      <th>b1v2</th>\n",
       "      <th>b1v3</th>\n",
       "      <th>b1v4</th>\n",
       "    </tr>\n",
       "    <tr>\n",
       "      <th>user_id</th>\n",
       "      <th></th>\n",
       "      <th></th>\n",
       "      <th></th>\n",
       "      <th></th>\n",
       "      <th></th>\n",
       "      <th></th>\n",
       "      <th></th>\n",
       "      <th></th>\n",
       "      <th></th>\n",
       "      <th></th>\n",
       "      <th></th>\n",
       "      <th></th>\n",
       "      <th></th>\n",
       "      <th></th>\n",
       "      <th></th>\n",
       "      <th></th>\n",
       "      <th></th>\n",
       "      <th></th>\n",
       "      <th></th>\n",
       "      <th></th>\n",
       "      <th></th>\n",
       "    </tr>\n",
       "  </thead>\n",
       "  <tbody>\n",
       "    <tr>\n",
       "      <th>29995</th>\n",
       "      <td>29995</td>\n",
       "      <td>3</td>\n",
       "      <td>5</td>\n",
       "      <td>NaN</td>\n",
       "      <td>NaN</td>\n",
       "      <td>39</td>\n",
       "      <td>40</td>\n",
       "      <td>48</td>\n",
       "      <td>-1</td>\n",
       "      <td>-1</td>\n",
       "      <td>...</td>\n",
       "      <td>3</td>\n",
       "      <td>1</td>\n",
       "      <td>1</td>\n",
       "      <td>-1</td>\n",
       "      <td>-1</td>\n",
       "      <td>NaN</td>\n",
       "      <td>NaN</td>\n",
       "      <td>NaN</td>\n",
       "      <td>NaN</td>\n",
       "      <td>NaN</td>\n",
       "    </tr>\n",
       "    <tr>\n",
       "      <th>29996</th>\n",
       "      <td>29996</td>\n",
       "      <td>7</td>\n",
       "      <td>9</td>\n",
       "      <td>1.0</td>\n",
       "      <td>1.0</td>\n",
       "      <td>23</td>\n",
       "      <td>50</td>\n",
       "      <td>72</td>\n",
       "      <td>91</td>\n",
       "      <td>-1</td>\n",
       "      <td>...</td>\n",
       "      <td>6</td>\n",
       "      <td>1</td>\n",
       "      <td>1</td>\n",
       "      <td>1</td>\n",
       "      <td>-1</td>\n",
       "      <td>1.0</td>\n",
       "      <td>-1.0</td>\n",
       "      <td>-1.0</td>\n",
       "      <td>-1.0</td>\n",
       "      <td>-1.0</td>\n",
       "    </tr>\n",
       "    <tr>\n",
       "      <th>29997</th>\n",
       "      <td>29997</td>\n",
       "      <td>9</td>\n",
       "      <td>14</td>\n",
       "      <td>1.0</td>\n",
       "      <td>1.0</td>\n",
       "      <td>42</td>\n",
       "      <td>48</td>\n",
       "      <td>91</td>\n",
       "      <td>53</td>\n",
       "      <td>94</td>\n",
       "      <td>...</td>\n",
       "      <td>4</td>\n",
       "      <td>4</td>\n",
       "      <td>3</td>\n",
       "      <td>2</td>\n",
       "      <td>1</td>\n",
       "      <td>1.0</td>\n",
       "      <td>-1.0</td>\n",
       "      <td>-1.0</td>\n",
       "      <td>-1.0</td>\n",
       "      <td>-1.0</td>\n",
       "    </tr>\n",
       "    <tr>\n",
       "      <th>29998</th>\n",
       "      <td>29998</td>\n",
       "      <td>14</td>\n",
       "      <td>18</td>\n",
       "      <td>NaN</td>\n",
       "      <td>NaN</td>\n",
       "      <td>70</td>\n",
       "      <td>21</td>\n",
       "      <td>4</td>\n",
       "      <td>10</td>\n",
       "      <td>17</td>\n",
       "      <td>...</td>\n",
       "      <td>5</td>\n",
       "      <td>3</td>\n",
       "      <td>1</td>\n",
       "      <td>1</td>\n",
       "      <td>1</td>\n",
       "      <td>NaN</td>\n",
       "      <td>NaN</td>\n",
       "      <td>NaN</td>\n",
       "      <td>NaN</td>\n",
       "      <td>NaN</td>\n",
       "    </tr>\n",
       "    <tr>\n",
       "      <th>29999</th>\n",
       "      <td>29999</td>\n",
       "      <td>3</td>\n",
       "      <td>3</td>\n",
       "      <td>2.0</td>\n",
       "      <td>2.0</td>\n",
       "      <td>39</td>\n",
       "      <td>42</td>\n",
       "      <td>91</td>\n",
       "      <td>-1</td>\n",
       "      <td>-1</td>\n",
       "      <td>...</td>\n",
       "      <td>1</td>\n",
       "      <td>1</td>\n",
       "      <td>1</td>\n",
       "      <td>-1</td>\n",
       "      <td>-1</td>\n",
       "      <td>1.0</td>\n",
       "      <td>1.0</td>\n",
       "      <td>-1.0</td>\n",
       "      <td>-1.0</td>\n",
       "      <td>-1.0</td>\n",
       "    </tr>\n",
       "  </tbody>\n",
       "</table>\n",
       "<p>5 rows × 25 columns</p>\n",
       "</div>"
      ],
      "text/plain": [
       "         user_id  count0  countCnt0  count1  countCnt1  b0n0  b0n1  b0n2  \\\n",
       "user_id                                                                    \n",
       "29995      29995       3          5     NaN        NaN    39    40    48   \n",
       "29996      29996       7          9     1.0        1.0    23    50    72   \n",
       "29997      29997       9         14     1.0        1.0    42    48    91   \n",
       "29998      29998      14         18     NaN        NaN    70    21     4   \n",
       "29999      29999       3          3     2.0        2.0    39    42    91   \n",
       "\n",
       "         b0n3  b0n4  ...   b0v0  b0v1  b0v2  b0v3  b0v4  b1v0  b1v1  b1v2  \\\n",
       "user_id              ...                                                    \n",
       "29995      -1    -1  ...      3     1     1    -1    -1   NaN   NaN   NaN   \n",
       "29996      91    -1  ...      6     1     1     1    -1   1.0  -1.0  -1.0   \n",
       "29997      53    94  ...      4     4     3     2     1   1.0  -1.0  -1.0   \n",
       "29998      10    17  ...      5     3     1     1     1   NaN   NaN   NaN   \n",
       "29999      -1    -1  ...      1     1     1    -1    -1   1.0   1.0  -1.0   \n",
       "\n",
       "         b1v3  b1v4  \n",
       "user_id              \n",
       "29995     NaN   NaN  \n",
       "29996    -1.0  -1.0  \n",
       "29997    -1.0  -1.0  \n",
       "29998     NaN   NaN  \n",
       "29999    -1.0  -1.0  \n",
       "\n",
       "[5 rows x 25 columns]"
      ]
     },
     "execution_count": 113,
     "metadata": {},
     "output_type": "execute_result"
    }
   ],
   "source": [
    "len(trans01)\n",
    "trans01.tail()"
   ]
  },
  {
   "cell_type": "code",
   "execution_count": 120,
   "metadata": {
    "collapsed": false
   },
   "outputs": [
    {
     "data": {
      "text/plain": [
       "60"
      ]
     },
     "execution_count": 120,
     "metadata": {},
     "output_type": "execute_result"
    }
   ],
   "source": [
    "trainx.query('user_id==1190000')['cnt'].count()"
   ]
  },
  {
   "cell_type": "code",
   "execution_count": 134,
   "metadata": {
    "collapsed": false
   },
   "outputs": [
    {
     "data": {
      "text/plain": [
       "120"
      ]
     },
     "execution_count": 134,
     "metadata": {},
     "output_type": "execute_result"
    }
   ],
   "source": [
    "import os\n",
    "xres = [os.path.join(pickleDir,iFile) for iFile in os.listdir(pickleDir) if (iFile[0:7]=='trans01')]\n",
    "fres=xres\n",
    "len(fres)"
   ]
  },
  {
   "cell_type": "code",
   "execution_count": 135,
   "metadata": {
    "collapsed": false
   },
   "outputs": [
    {
     "name": "stdout",
     "output_type": "stream",
     "text": [
      "(1198786, 25)\n"
     ]
    },
    {
     "data": {
      "text/html": [
       "<div>\n",
       "<table border=\"1\" class=\"dataframe\">\n",
       "  <thead>\n",
       "    <tr style=\"text-align: right;\">\n",
       "      <th></th>\n",
       "      <th>user_id</th>\n",
       "      <th>count0</th>\n",
       "      <th>countCnt0</th>\n",
       "      <th>count1</th>\n",
       "      <th>countCnt1</th>\n",
       "      <th>b0n0</th>\n",
       "      <th>b0n1</th>\n",
       "      <th>b0n2</th>\n",
       "      <th>b0n3</th>\n",
       "      <th>b0n4</th>\n",
       "      <th>...</th>\n",
       "      <th>b0v0</th>\n",
       "      <th>b0v1</th>\n",
       "      <th>b0v2</th>\n",
       "      <th>b0v3</th>\n",
       "      <th>b0v4</th>\n",
       "      <th>b1v0</th>\n",
       "      <th>b1v1</th>\n",
       "      <th>b1v2</th>\n",
       "      <th>b1v3</th>\n",
       "      <th>b1v4</th>\n",
       "    </tr>\n",
       "    <tr>\n",
       "      <th>user_id</th>\n",
       "      <th></th>\n",
       "      <th></th>\n",
       "      <th></th>\n",
       "      <th></th>\n",
       "      <th></th>\n",
       "      <th></th>\n",
       "      <th></th>\n",
       "      <th></th>\n",
       "      <th></th>\n",
       "      <th></th>\n",
       "      <th></th>\n",
       "      <th></th>\n",
       "      <th></th>\n",
       "      <th></th>\n",
       "      <th></th>\n",
       "      <th></th>\n",
       "      <th></th>\n",
       "      <th></th>\n",
       "      <th></th>\n",
       "      <th></th>\n",
       "      <th></th>\n",
       "    </tr>\n",
       "  </thead>\n",
       "  <tbody>\n",
       "    <tr>\n",
       "      <th>1198781</th>\n",
       "      <td>1198781</td>\n",
       "      <td>10</td>\n",
       "      <td>18</td>\n",
       "      <td>NaN</td>\n",
       "      <td>NaN</td>\n",
       "      <td>70</td>\n",
       "      <td>83</td>\n",
       "      <td>25</td>\n",
       "      <td>39</td>\n",
       "      <td>40</td>\n",
       "      <td>...</td>\n",
       "      <td>6</td>\n",
       "      <td>3</td>\n",
       "      <td>2</td>\n",
       "      <td>2</td>\n",
       "      <td>2</td>\n",
       "      <td>NaN</td>\n",
       "      <td>NaN</td>\n",
       "      <td>NaN</td>\n",
       "      <td>NaN</td>\n",
       "      <td>NaN</td>\n",
       "    </tr>\n",
       "    <tr>\n",
       "      <th>1198782</th>\n",
       "      <td>1198782</td>\n",
       "      <td>3</td>\n",
       "      <td>7</td>\n",
       "      <td>NaN</td>\n",
       "      <td>NaN</td>\n",
       "      <td>77</td>\n",
       "      <td>37</td>\n",
       "      <td>55</td>\n",
       "      <td>-1</td>\n",
       "      <td>-1</td>\n",
       "      <td>...</td>\n",
       "      <td>3</td>\n",
       "      <td>2</td>\n",
       "      <td>2</td>\n",
       "      <td>-1</td>\n",
       "      <td>-1</td>\n",
       "      <td>NaN</td>\n",
       "      <td>NaN</td>\n",
       "      <td>NaN</td>\n",
       "      <td>NaN</td>\n",
       "      <td>NaN</td>\n",
       "    </tr>\n",
       "    <tr>\n",
       "      <th>1198783</th>\n",
       "      <td>1198783</td>\n",
       "      <td>23</td>\n",
       "      <td>33</td>\n",
       "      <td>4.0</td>\n",
       "      <td>4.0</td>\n",
       "      <td>91</td>\n",
       "      <td>48</td>\n",
       "      <td>39</td>\n",
       "      <td>40</td>\n",
       "      <td>94</td>\n",
       "      <td>...</td>\n",
       "      <td>7</td>\n",
       "      <td>6</td>\n",
       "      <td>3</td>\n",
       "      <td>3</td>\n",
       "      <td>3</td>\n",
       "      <td>1.0</td>\n",
       "      <td>1.0</td>\n",
       "      <td>1.0</td>\n",
       "      <td>1.0</td>\n",
       "      <td>-1.0</td>\n",
       "    </tr>\n",
       "    <tr>\n",
       "      <th>1198784</th>\n",
       "      <td>1198784</td>\n",
       "      <td>4</td>\n",
       "      <td>10</td>\n",
       "      <td>1.0</td>\n",
       "      <td>1.0</td>\n",
       "      <td>68</td>\n",
       "      <td>26</td>\n",
       "      <td>79</td>\n",
       "      <td>95</td>\n",
       "      <td>-1</td>\n",
       "      <td>...</td>\n",
       "      <td>6</td>\n",
       "      <td>2</td>\n",
       "      <td>1</td>\n",
       "      <td>1</td>\n",
       "      <td>-1</td>\n",
       "      <td>1.0</td>\n",
       "      <td>-1.0</td>\n",
       "      <td>-1.0</td>\n",
       "      <td>-1.0</td>\n",
       "      <td>-1.0</td>\n",
       "    </tr>\n",
       "    <tr>\n",
       "      <th>1198785</th>\n",
       "      <td>1198785</td>\n",
       "      <td>2</td>\n",
       "      <td>3</td>\n",
       "      <td>NaN</td>\n",
       "      <td>NaN</td>\n",
       "      <td>76</td>\n",
       "      <td>-1</td>\n",
       "      <td>-1</td>\n",
       "      <td>-1</td>\n",
       "      <td>-1</td>\n",
       "      <td>...</td>\n",
       "      <td>3</td>\n",
       "      <td>-1</td>\n",
       "      <td>-1</td>\n",
       "      <td>-1</td>\n",
       "      <td>-1</td>\n",
       "      <td>NaN</td>\n",
       "      <td>NaN</td>\n",
       "      <td>NaN</td>\n",
       "      <td>NaN</td>\n",
       "      <td>NaN</td>\n",
       "    </tr>\n",
       "  </tbody>\n",
       "</table>\n",
       "<p>5 rows × 25 columns</p>\n",
       "</div>"
      ],
      "text/plain": [
       "         user_id  count0  countCnt0  count1  countCnt1  b0n0  b0n1  b0n2  \\\n",
       "user_id                                                                    \n",
       "1198781  1198781      10         18     NaN        NaN    70    83    25   \n",
       "1198782  1198782       3          7     NaN        NaN    77    37    55   \n",
       "1198783  1198783      23         33     4.0        4.0    91    48    39   \n",
       "1198784  1198784       4         10     1.0        1.0    68    26    79   \n",
       "1198785  1198785       2          3     NaN        NaN    76    -1    -1   \n",
       "\n",
       "         b0n3  b0n4  ...   b0v0  b0v1  b0v2  b0v3  b0v4  b1v0  b1v1  b1v2  \\\n",
       "user_id              ...                                                    \n",
       "1198781    39    40  ...      6     3     2     2     2   NaN   NaN   NaN   \n",
       "1198782    -1    -1  ...      3     2     2    -1    -1   NaN   NaN   NaN   \n",
       "1198783    40    94  ...      7     6     3     3     3   1.0   1.0   1.0   \n",
       "1198784    95    -1  ...      6     2     1     1    -1   1.0  -1.0  -1.0   \n",
       "1198785    -1    -1  ...      3    -1    -1    -1    -1   NaN   NaN   NaN   \n",
       "\n",
       "         b1v3  b1v4  \n",
       "user_id              \n",
       "1198781   NaN   NaN  \n",
       "1198782   NaN   NaN  \n",
       "1198783   1.0  -1.0  \n",
       "1198784  -1.0  -1.0  \n",
       "1198785   NaN   NaN  \n",
       "\n",
       "[5 rows x 25 columns]"
      ]
     },
     "execution_count": 135,
     "metadata": {},
     "output_type": "execute_result"
    }
   ],
   "source": [
    "# Read files and build one dataframe\n",
    "ff  = pd.read_pickle(fres[0])\n",
    "for ifile in fres[1:len(fres)] :\n",
    "    ff1 = pd.read_pickle(ifile)\n",
    "    ff  = pd.concat([ff,ff1])\n",
    "    del ff1\n",
    "print(ff.shape)\n",
    "ff.tail()"
   ]
  },
  {
   "cell_type": "code",
   "execution_count": 136,
   "metadata": {
    "collapsed": false
   },
   "outputs": [
    {
     "data": {
      "text/plain": [
       "(1198786, 25)"
      ]
     },
     "execution_count": 136,
     "metadata": {},
     "output_type": "execute_result"
    }
   ],
   "source": [
    "ff.shape"
   ]
  },
  {
   "cell_type": "code",
   "execution_count": 137,
   "metadata": {
    "collapsed": false
   },
   "outputs": [
    {
     "name": "stdout",
     "output_type": "stream",
     "text": [
      "(1198786, 25)\n"
     ]
    }
   ],
   "source": [
    "# Save result in file\n",
    "print(ff.shape)\n",
    "ff.to_pickle(os.path.join(pickleDir,'trans01-user-id-all.pck'))\n",
    "#del ff"
   ]
  },
  {
   "cell_type": "code",
   "execution_count": 138,
   "metadata": {
    "collapsed": true
   },
   "outputs": [],
   "source": [
    "del ff\n",
    "del trainx"
   ]
  }
 ],
 "metadata": {
  "kernelspec": {
   "display_name": "Python 3",
   "language": "python",
   "name": "python3"
  },
  "language_info": {
   "codemirror_mode": {
    "name": "ipython",
    "version": 3
   },
   "file_extension": ".py",
   "mimetype": "text/x-python",
   "name": "python",
   "nbconvert_exporter": "python",
   "pygments_lexer": "ipython3",
   "version": "3.5.1"
  }
 },
 "nbformat": 4,
 "nbformat_minor": 0
}
