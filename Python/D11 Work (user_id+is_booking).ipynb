{
 "cells": [
  {
   "cell_type": "code",
   "execution_count": 2,
   "metadata": {
    "collapsed": true
   },
   "outputs": [],
   "source": [
    "import datetime\n",
    "import os\n",
    "\n",
    "import numpy  as np\n",
    "import pandas as pd"
   ]
  },
  {
   "cell_type": "code",
   "execution_count": 3,
   "metadata": {
    "collapsed": true
   },
   "outputs": [],
   "source": [
    "# Variables\n",
    "\n",
    "pickleDir = '../Data/Pickle'\n",
    "inputFile = '../Data/Fields/D11.csv'\n"
   ]
  },
  {
   "cell_type": "code",
   "execution_count": 4,
   "metadata": {
    "collapsed": false
   },
   "outputs": [
    {
     "name": "stdout",
     "output_type": "stream",
     "text": [
      "input datas: 2016-05-25 17:30:13.358580\n",
      "end input 2016-05-25 17:30:52.965288\n",
      "          user_id  is_booking  dt0m  dt0y  hotel_cluster  countCnt  count\n",
      "15015383  1198784           0     4  2015             26         2      1\n",
      "15015384  1198784           0     4  2015             68         6      1\n",
      "15015385  1198784           0     4  2015             95         1      1\n",
      "15015386  1198784           0     8  2014             79         1      1\n",
      "15015387  1198784           1     8  2014             79         1      1\n"
     ]
    }
   ],
   "source": [
    "print('input datas:',datetime.datetime.now())\n",
    "\n",
    "frame = pd.read_csv(inputFile)\n",
    "\n",
    "print('end input',datetime.datetime.now())\n",
    "print(frame.tail())"
   ]
  },
  {
   "cell_type": "code",
   "execution_count": 7,
   "metadata": {
    "collapsed": false
   },
   "outputs": [
    {
     "name": "stdout",
     "output_type": "stream",
     "text": [
      "user+book = 1512327\n",
      "grouped datas: 2016-05-25 17:44:25.459598\n",
      "1512327\n"
     ]
    }
   ],
   "source": [
    "grouped=frame.groupby(['user_id','is_booking']); print('user+book =',len(grouped))\n",
    "print('grouped datas:',datetime.datetime.now())\n",
    "print(len(grouped))"
   ]
  },
  {
   "cell_type": "code",
   "execution_count": 147,
   "metadata": {
    "collapsed": false
   },
   "outputs": [],
   "source": [
    "i        = -1\n",
    "nLargest =  5; n = nLargest;\n",
    "\n",
    "dcol = ['count','countCnt'] + ['n'+str(i) for i in range(5)] + ['cc'+str(i) for i in range(100)]\n",
    "dcol = ['count','countCnt'] + ['n'+str(i) for i in range(n)]  + ['v'+str(i) for i in range(n)] \n",
    "def f (xgroup) :\n",
    "    global i,n\n",
    "    d00  = np.zeros((100));d00[xgroup['hotel_cluster']]+=xgroup['count']\n",
    "    dsum = xgroup['countCnt'].sum()\n",
    "    dcnt = xgroup['count'].sum()\n",
    "    d05  = pd.Series(d00); \n",
    "    n05=d05[d05>0].nlargest(n).index.tolist()+[-1]*n; n05=n05[0:n];\n",
    "    v05=d05[d05>0].nlargest(n).tolist()+[-1]*n;       v05=v05[0:n];\n",
    "    ddd  = [dcnt,dsum] + n05 + v05 # + d00.tolist()\n",
    "    #i   += 1\n",
    "    #if (i%10000==0) : print('5 :',datetime.datetime.now(),\" i = \",i)\n",
    "\n",
    "    \n",
    "    return(pd.DataFrame(ddd,index=dcol).T)\n",
    "\n"
   ]
  },
  {
   "cell_type": "code",
   "execution_count": 148,
   "metadata": {
    "collapsed": false
   },
   "outputs": [],
   "source": [
    "def ff (transx,nn,filepickle) :\n",
    "    trans0 = transx.query('is_booking==0')[['user_id','is_booking','count','countCnt']+ \\\n",
    "                                           ['n'+str(i) for i in range(nn)]+['v'+str(i) for i in range(nn)]]\n",
    "    trans0.index = trans0['user_id']\n",
    "\n",
    "    trans1 = transx.query('is_booking==1')[['user_id','is_booking','count','countCnt']+ \\\n",
    "                                           ['n'+str(i) for i in range(nn)]+['v'+str(i) for i in range(nn)]]\n",
    "    trans1.index = trans1['user_id']\n",
    "\n",
    "    trans01 = pd.concat([trans0,trans1],axis=1)\n",
    "\n",
    "    trans01.columns = ['user_id','bo0','count0','countCnt0']+['b0n'+str(i) for i in range(nn)]+['b0v'+str(i) for i in range(nn)]+ \\\n",
    "                        ['h1','bo1','count1','countCnt1']+['b1n'+str(i) for i in range(nn)]+['b1v'+str(i) for i in range(nn)]\n",
    "    trans01 = trans01[['user_id','count0','countCnt0','count1','countCnt1'] + \\\n",
    "                      ['b0n'+str(i) for i in range(nn)]+['b1n'+str(i) for i in range(nn)]+ \\\n",
    "                      ['b0v'+str(i) for i in range(nn)]+['b1v'+str(i) for i in range(nn)]]\n",
    "    \n",
    "    trans01.to_pickle(filepickle)\n",
    "    \n",
    "    return(trans01)\n"
   ]
  },
  {
   "cell_type": "code",
   "execution_count": 151,
   "metadata": {
    "collapsed": false
   },
   "outputs": [
    {
     "name": "stdout",
     "output_type": "stream",
     "text": [
      "1512327\n",
      "0 1198784\n",
      "120 [(0, 10000), (10000, 20000), (20000, 30000), (30000, 40000), (40000, 50000)]\n"
     ]
    }
   ],
   "source": [
    "print(len(grouped))\n",
    "print(frame['user_id'].min(),frame['user_id'].max())\n",
    "\n",
    "ll = frame['user_id'].max()+1\n",
    "l = [i for i in range(0,ll,10000)]\n",
    "if (l[len(l)-1]!=ll) : l.append(ll)\n",
    "mm = [(l[i],l[i+1]) for i in range(len(l)-1)]\n",
    "#print(m)\n",
    "#for i1,i2 in mm[-10:] : print((i2-i1))\n",
    "print(len(mm),mm[0:5])"
   ]
  },
  {
   "cell_type": "code",
   "execution_count": 152,
   "metadata": {
    "collapsed": false
   },
   "outputs": [
    {
     "name": "stdout",
     "output_type": "stream",
     "text": [
      "4 : 2016-05-25 20:32:36.461329  i1,i2= 0 10000\n"
     ]
    },
    {
     "name": "stderr",
     "output_type": "stream",
     "text": [
      "C:\\Anaconda3-64\\lib\\site-packages\\ipykernel\\__main__.py:8: VisibleDeprecationWarning: using a non-integer number instead of an integer will result in an error in the future\n"
     ]
    },
    {
     "name": "stdout",
     "output_type": "stream",
     "text": [
      "4 : 2016-05-25 20:33:22.285353  i1,i2= 10000 20000\n",
      "4 : 2016-05-25 20:34:15.759275  i1,i2= 20000 30000\n",
      "4 : 2016-05-25 20:35:16.877032  i1,i2= 30000 40000\n",
      "4 : 2016-05-25 20:36:33.070324  i1,i2= 40000 50000\n",
      "4 : 2016-05-25 20:37:43.515027  i1,i2= 50000 60000\n",
      "4 : 2016-05-25 20:38:50.388549  i1,i2= 60000 70000\n",
      "4 : 2016-05-25 20:40:03.747865  i1,i2= 70000 80000\n",
      "4 : 2016-05-25 20:41:13.654163  i1,i2= 80000 90000\n",
      "4 : 2016-05-25 20:42:25.329281  i1,i2= 90000 100000\n",
      "4 : 2016-05-25 20:43:37.268534  i1,i2= 100000 110000\n",
      "4 : 2016-05-25 20:44:44.564925  i1,i2= 110000 120000\n",
      "4 : 2016-05-25 20:45:53.422784  i1,i2= 120000 130000\n",
      "4 : 2016-05-25 20:46:59.821477  i1,i2= 130000 140000\n",
      "4 : 2016-05-25 20:48:11.207877  i1,i2= 140000 150000\n",
      "4 : 2016-05-25 20:49:21.263340  i1,i2= 150000 160000\n",
      "4 : 2016-05-25 20:50:36.491093  i1,i2= 160000 170000\n",
      "4 : 2016-05-25 20:51:58.119528  i1,i2= 170000 180000\n",
      "4 : 2016-05-25 20:53:25.635471  i1,i2= 180000 190000\n",
      "4 : 2016-05-25 20:54:40.573877  i1,i2= 190000 200000\n",
      "4 : 2016-05-25 20:55:52.031046  i1,i2= 200000 210000\n",
      "4 : 2016-05-25 20:56:56.780364  i1,i2= 210000 220000\n",
      "4 : 2016-05-25 20:57:58.804834  i1,i2= 220000 230000\n",
      "4 : 2016-05-25 20:59:03.073429  i1,i2= 230000 240000\n",
      "4 : 2016-05-25 21:00:04.412703  i1,i2= 240000 250000\n",
      "4 : 2016-05-25 21:01:04.388354  i1,i2= 250000 260000\n",
      "4 : 2016-05-25 21:02:13.365289  i1,i2= 260000 270000\n",
      "4 : 2016-05-25 21:03:25.182032  i1,i2= 270000 280000\n",
      "4 : 2016-05-25 21:04:37.871720  i1,i2= 280000 290000\n",
      "4 : 2016-05-25 21:06:00.607626  i1,i2= 290000 300000\n",
      "4 : 2016-05-25 21:07:17.804319  i1,i2= 300000 310000\n",
      "4 : 2016-05-25 21:08:34.933243  i1,i2= 310000 320000\n",
      "4 : 2016-05-25 21:09:52.670928  i1,i2= 320000 330000\n",
      "4 : 2016-05-25 21:11:03.235983  i1,i2= 330000 340000\n",
      "4 : 2016-05-25 21:12:13.947409  i1,i2= 340000 350000\n",
      "4 : 2016-05-25 21:13:26.075220  i1,i2= 350000 360000\n",
      "4 : 2016-05-25 21:14:38.048003  i1,i2= 360000 370000\n",
      "4 : 2016-05-25 21:15:59.341370  i1,i2= 370000 380000\n",
      "4 : 2016-05-25 21:17:11.506251  i1,i2= 380000 390000\n",
      "4 : 2016-05-25 21:18:20.114361  i1,i2= 390000 400000\n",
      "4 : 2016-05-25 21:19:30.464317  i1,i2= 400000 410000\n",
      "4 : 2016-05-25 21:20:39.186798  i1,i2= 410000 420000\n",
      "4 : 2016-05-25 21:21:51.254819  i1,i2= 420000 430000\n",
      "4 : 2016-05-25 21:23:04.518607  i1,i2= 430000 440000\n",
      "4 : 2016-05-25 21:24:17.840836  i1,i2= 440000 450000\n",
      "4 : 2016-05-25 21:25:24.969354  i1,i2= 450000 460000\n",
      "4 : 2016-05-25 21:26:28.481524  i1,i2= 460000 470000\n",
      "4 : 2016-05-25 21:27:34.117424  i1,i2= 470000 480000\n",
      "4 : 2016-05-25 21:28:35.930109  i1,i2= 480000 490000\n",
      "4 : 2016-05-25 21:29:43.670665  i1,i2= 490000 500000\n",
      "4 : 2016-05-25 21:30:53.473497  i1,i2= 500000 510000\n",
      "4 : 2016-05-25 21:32:17.254622  i1,i2= 510000 520000\n",
      "4 : 2016-05-25 21:33:29.162431  i1,i2= 520000 530000\n",
      "4 : 2016-05-25 21:34:38.557004  i1,i2= 530000 540000\n",
      "4 : 2016-05-25 21:35:48.349733  i1,i2= 540000 550000\n",
      "4 : 2016-05-25 21:36:58.419116  i1,i2= 550000 560000\n",
      "4 : 2016-05-25 21:38:10.532564  i1,i2= 560000 570000\n",
      "4 : 2016-05-25 21:39:21.718956  i1,i2= 570000 580000\n",
      "4 : 2016-05-25 21:40:42.914388  i1,i2= 580000 590000\n",
      "4 : 2016-05-25 21:41:48.188722  i1,i2= 590000 600000\n",
      "4 : 2016-05-25 21:42:54.566973  i1,i2= 600000 610000\n",
      "4 : 2016-05-25 21:44:01.475493  i1,i2= 610000 620000\n",
      "4 : 2016-05-25 21:45:09.797764  i1,i2= 620000 630000\n",
      "4 : 2016-05-25 21:46:35.322300  i1,i2= 630000 640000\n",
      "4 : 2016-05-25 21:47:43.811024  i1,i2= 640000 650000\n",
      "4 : 2016-05-25 21:48:58.053149  i1,i2= 650000 660000\n",
      "4 : 2016-05-25 21:50:31.178869  i1,i2= 660000 670000\n",
      "4 : 2016-05-25 21:51:47.614704  i1,i2= 670000 680000\n",
      "4 : 2016-05-25 21:54:03.875318  i1,i2= 680000 690000\n",
      "4 : 2016-05-25 21:55:05.884736  i1,i2= 690000 700000\n",
      "4 : 2016-05-25 21:56:09.953703  i1,i2= 700000 710000\n",
      "4 : 2016-05-25 21:57:12.077783  i1,i2= 710000 720000\n",
      "4 : 2016-05-25 21:58:22.559105  i1,i2= 720000 730000\n",
      "4 : 2016-05-25 21:59:35.139447  i1,i2= 730000 740000\n",
      "4 : 2016-05-25 22:00:51.637387  i1,i2= 740000 750000\n",
      "4 : 2016-05-25 22:01:57.728760  i1,i2= 750000 760000\n",
      "4 : 2016-05-25 22:03:08.889620  i1,i2= 760000 770000\n",
      "4 : 2016-05-25 22:04:26.890033  i1,i2= 770000 780000\n",
      "4 : 2016-05-25 22:05:37.191260  i1,i2= 780000 790000\n",
      "4 : 2016-05-25 22:06:42.167708  i1,i2= 790000 800000\n",
      "4 : 2016-05-25 22:07:48.087340  i1,i2= 800000 810000\n",
      "4 : 2016-05-25 22:08:56.919711  i1,i2= 810000 820000\n",
      "4 : 2016-05-25 22:10:07.868054  i1,i2= 820000 830000\n",
      "4 : 2016-05-25 22:11:18.548037  i1,i2= 830000 840000\n",
      "4 : 2016-05-25 22:12:25.271276  i1,i2= 840000 850000\n",
      "4 : 2016-05-25 22:13:36.359192  i1,i2= 850000 860000\n",
      "4 : 2016-05-25 22:14:45.971664  i1,i2= 860000 870000\n",
      "4 : 2016-05-25 22:16:06.387566  i1,i2= 870000 880000\n",
      "4 : 2016-05-25 22:17:14.956026  i1,i2= 880000 890000\n",
      "4 : 2016-05-25 22:18:37.107310  i1,i2= 890000 900000\n",
      "4 : 2016-05-25 22:19:49.966993  i1,i2= 900000 910000\n",
      "4 : 2016-05-25 22:21:02.969321  i1,i2= 910000 920000\n",
      "4 : 2016-05-25 22:22:17.148810  i1,i2= 920000 930000\n",
      "4 : 2016-05-25 22:23:17.275859  i1,i2= 930000 940000\n",
      "4 : 2016-05-25 22:24:25.084438  i1,i2= 940000 950000\n",
      "4 : 2016-05-25 22:25:32.491097  i1,i2= 950000 960000\n",
      "4 : 2016-05-25 22:26:42.247698  i1,i2= 960000 970000\n",
      "4 : 2016-05-25 22:28:05.285968  i1,i2= 970000 980000\n",
      "4 : 2016-05-25 22:29:13.434874  i1,i2= 980000 990000\n",
      "4 : 2016-05-25 22:30:23.685906  i1,i2= 990000 1000000\n",
      "4 : 2016-05-25 22:31:31.294629  i1,i2= 1000000 1010000\n",
      "4 : 2016-05-25 22:32:39.624193  i1,i2= 1010000 1020000\n",
      "4 : 2016-05-25 22:34:33.033126  i1,i2= 1020000 1030000\n",
      "4 : 2016-05-25 22:36:31.277053  i1,i2= 1030000 1040000\n",
      "4 : 2016-05-25 22:37:41.003738  i1,i2= 1040000 1050000\n",
      "4 : 2016-05-25 22:38:50.776600  i1,i2= 1050000 1060000\n",
      "4 : 2016-05-25 22:39:56.387343  i1,i2= 1060000 1070000\n",
      "4 : 2016-05-25 22:41:07.730435  i1,i2= 1070000 1080000\n",
      "4 : 2016-05-25 22:42:16.636077  i1,i2= 1080000 1090000\n",
      "4 : 2016-05-25 22:43:23.004452  i1,i2= 1090000 1100000\n",
      "4 : 2016-05-25 22:44:32.948388  i1,i2= 1100000 1110000\n",
      "4 : 2016-05-25 22:45:39.497960  i1,i2= 1110000 1120000\n",
      "4 : 2016-05-25 22:46:50.525035  i1,i2= 1120000 1130000\n",
      "4 : 2016-05-25 22:47:59.454225  i1,i2= 1130000 1140000\n",
      "4 : 2016-05-25 22:49:11.612103  i1,i2= 1140000 1150000\n",
      "4 : 2016-05-25 22:50:28.833567  i1,i2= 1150000 1160000\n",
      "4 : 2016-05-25 22:51:27.233744  i1,i2= 1160000 1170000\n",
      "4 : 2016-05-25 22:52:17.865548  i1,i2= 1170000 1180000\n",
      "4 : 2016-05-25 22:53:11.527656  i1,i2= 1180000 1190000\n",
      "4 : 2016-05-25 22:53:59.717553  i1,i2= 1190000 1198785\n",
      "7 : 2016-05-25 22:55:04.411162\n",
      "fres= 120\n"
     ]
    },
    {
     "data": {
      "text/html": [
       "<div>\n",
       "<table border=\"1\" class=\"dataframe\">\n",
       "  <thead>\n",
       "    <tr style=\"text-align: right;\">\n",
       "      <th></th>\n",
       "      <th>user_id</th>\n",
       "      <th>count0</th>\n",
       "      <th>countCnt0</th>\n",
       "      <th>count1</th>\n",
       "      <th>countCnt1</th>\n",
       "      <th>b0n0</th>\n",
       "      <th>b0n1</th>\n",
       "      <th>b0n2</th>\n",
       "      <th>b0n3</th>\n",
       "      <th>b0n4</th>\n",
       "      <th>...</th>\n",
       "      <th>b0v0</th>\n",
       "      <th>b0v1</th>\n",
       "      <th>b0v2</th>\n",
       "      <th>b0v3</th>\n",
       "      <th>b0v4</th>\n",
       "      <th>b1v0</th>\n",
       "      <th>b1v1</th>\n",
       "      <th>b1v2</th>\n",
       "      <th>b1v3</th>\n",
       "      <th>b1v4</th>\n",
       "    </tr>\n",
       "    <tr>\n",
       "      <th>user_id</th>\n",
       "      <th></th>\n",
       "      <th></th>\n",
       "      <th></th>\n",
       "      <th></th>\n",
       "      <th></th>\n",
       "      <th></th>\n",
       "      <th></th>\n",
       "      <th></th>\n",
       "      <th></th>\n",
       "      <th></th>\n",
       "      <th></th>\n",
       "      <th></th>\n",
       "      <th></th>\n",
       "      <th></th>\n",
       "      <th></th>\n",
       "      <th></th>\n",
       "      <th></th>\n",
       "      <th></th>\n",
       "      <th></th>\n",
       "      <th></th>\n",
       "      <th></th>\n",
       "    </tr>\n",
       "  </thead>\n",
       "  <tbody>\n",
       "    <tr>\n",
       "      <th>1190000</th>\n",
       "      <td>1190000.0</td>\n",
       "      <td>55.0</td>\n",
       "      <td>104.0</td>\n",
       "      <td>NaN</td>\n",
       "      <td>NaN</td>\n",
       "      <td>4.0</td>\n",
       "      <td>1.0</td>\n",
       "      <td>19.0</td>\n",
       "      <td>55.0</td>\n",
       "      <td>5.0</td>\n",
       "      <td>...</td>\n",
       "      <td>13.0</td>\n",
       "      <td>11.0</td>\n",
       "      <td>5.0</td>\n",
       "      <td>5.0</td>\n",
       "      <td>3.0</td>\n",
       "      <td>NaN</td>\n",
       "      <td>NaN</td>\n",
       "      <td>NaN</td>\n",
       "      <td>NaN</td>\n",
       "      <td>NaN</td>\n",
       "    </tr>\n",
       "    <tr>\n",
       "      <th>1190001</th>\n",
       "      <td>1190001.0</td>\n",
       "      <td>5.0</td>\n",
       "      <td>6.0</td>\n",
       "      <td>1.0</td>\n",
       "      <td>2.0</td>\n",
       "      <td>9.0</td>\n",
       "      <td>41.0</td>\n",
       "      <td>42.0</td>\n",
       "      <td>-1.0</td>\n",
       "      <td>-1.0</td>\n",
       "      <td>...</td>\n",
       "      <td>2.0</td>\n",
       "      <td>2.0</td>\n",
       "      <td>1.0</td>\n",
       "      <td>-1.0</td>\n",
       "      <td>-1.0</td>\n",
       "      <td>1.0</td>\n",
       "      <td>-1.0</td>\n",
       "      <td>-1.0</td>\n",
       "      <td>-1.0</td>\n",
       "      <td>-1.0</td>\n",
       "    </tr>\n",
       "    <tr>\n",
       "      <th>1190003</th>\n",
       "      <td>1190003.0</td>\n",
       "      <td>2.0</td>\n",
       "      <td>2.0</td>\n",
       "      <td>1.0</td>\n",
       "      <td>1.0</td>\n",
       "      <td>25.0</td>\n",
       "      <td>55.0</td>\n",
       "      <td>-1.0</td>\n",
       "      <td>-1.0</td>\n",
       "      <td>-1.0</td>\n",
       "      <td>...</td>\n",
       "      <td>1.0</td>\n",
       "      <td>1.0</td>\n",
       "      <td>-1.0</td>\n",
       "      <td>-1.0</td>\n",
       "      <td>-1.0</td>\n",
       "      <td>1.0</td>\n",
       "      <td>-1.0</td>\n",
       "      <td>-1.0</td>\n",
       "      <td>-1.0</td>\n",
       "      <td>-1.0</td>\n",
       "    </tr>\n",
       "    <tr>\n",
       "      <th>1190005</th>\n",
       "      <td>1190005.0</td>\n",
       "      <td>78.0</td>\n",
       "      <td>89.0</td>\n",
       "      <td>9.0</td>\n",
       "      <td>9.0</td>\n",
       "      <td>85.0</td>\n",
       "      <td>5.0</td>\n",
       "      <td>48.0</td>\n",
       "      <td>10.0</td>\n",
       "      <td>3.0</td>\n",
       "      <td>...</td>\n",
       "      <td>8.0</td>\n",
       "      <td>4.0</td>\n",
       "      <td>4.0</td>\n",
       "      <td>3.0</td>\n",
       "      <td>2.0</td>\n",
       "      <td>2.0</td>\n",
       "      <td>1.0</td>\n",
       "      <td>1.0</td>\n",
       "      <td>1.0</td>\n",
       "      <td>1.0</td>\n",
       "    </tr>\n",
       "    <tr>\n",
       "      <th>1190006</th>\n",
       "      <td>1190006.0</td>\n",
       "      <td>160.0</td>\n",
       "      <td>204.0</td>\n",
       "      <td>3.0</td>\n",
       "      <td>3.0</td>\n",
       "      <td>45.0</td>\n",
       "      <td>46.0</td>\n",
       "      <td>98.0</td>\n",
       "      <td>4.0</td>\n",
       "      <td>19.0</td>\n",
       "      <td>...</td>\n",
       "      <td>9.0</td>\n",
       "      <td>6.0</td>\n",
       "      <td>6.0</td>\n",
       "      <td>4.0</td>\n",
       "      <td>4.0</td>\n",
       "      <td>2.0</td>\n",
       "      <td>1.0</td>\n",
       "      <td>-1.0</td>\n",
       "      <td>-1.0</td>\n",
       "      <td>-1.0</td>\n",
       "    </tr>\n",
       "  </tbody>\n",
       "</table>\n",
       "<p>5 rows × 25 columns</p>\n",
       "</div>"
      ],
      "text/plain": [
       "           user_id  count0  countCnt0  count1  countCnt1  b0n0  b0n1  b0n2  \\\n",
       "user_id                                                                      \n",
       "1190000  1190000.0    55.0      104.0     NaN        NaN   4.0   1.0  19.0   \n",
       "1190001  1190001.0     5.0        6.0     1.0        2.0   9.0  41.0  42.0   \n",
       "1190003  1190003.0     2.0        2.0     1.0        1.0  25.0  55.0  -1.0   \n",
       "1190005  1190005.0    78.0       89.0     9.0        9.0  85.0   5.0  48.0   \n",
       "1190006  1190006.0   160.0      204.0     3.0        3.0  45.0  46.0  98.0   \n",
       "\n",
       "         b0n3  b0n4  ...   b0v0  b0v1  b0v2  b0v3  b0v4  b1v0  b1v1  b1v2  \\\n",
       "user_id              ...                                                    \n",
       "1190000  55.0   5.0  ...   13.0  11.0   5.0   5.0   3.0   NaN   NaN   NaN   \n",
       "1190001  -1.0  -1.0  ...    2.0   2.0   1.0  -1.0  -1.0   1.0  -1.0  -1.0   \n",
       "1190003  -1.0  -1.0  ...    1.0   1.0  -1.0  -1.0  -1.0   1.0  -1.0  -1.0   \n",
       "1190005  10.0   3.0  ...    8.0   4.0   4.0   3.0   2.0   2.0   1.0   1.0   \n",
       "1190006   4.0  19.0  ...    9.0   6.0   6.0   4.0   4.0   2.0   1.0  -1.0   \n",
       "\n",
       "         b1v3  b1v4  \n",
       "user_id              \n",
       "1190000   NaN   NaN  \n",
       "1190001  -1.0  -1.0  \n",
       "1190003  -1.0  -1.0  \n",
       "1190005   1.0   1.0  \n",
       "1190006  -1.0  -1.0  \n",
       "\n",
       "[5 rows x 25 columns]"
      ]
     },
     "execution_count": 152,
     "metadata": {},
     "output_type": "execute_result"
    }
   ],
   "source": [
    "fres = []\n",
    "i1,i2 = 10000,20000\n",
    "for i1,i2 in mm :\n",
    "    print('4 :',datetime.datetime.now(),' i1,i2=',i1,i2)\n",
    "    cond = '('+str(i1)+'<=user_id)&(user_id<'+str(i2)+')'\n",
    "    grouped100 = frame.query(cond).groupby(['user_id','is_booking']); \n",
    "    #print('user+book =',len(grouped100))\n",
    "    #print('grouped (x in) datas:',datetime.datetime.now())\n",
    "    i, n = -1, nLargest\n",
    "    trans   = grouped100.apply(f);\n",
    "    trans   = trans.reset_index()\n",
    "    ffile   = os.path.join(pickleDir,'trans01-'+str(i1+1000000000)+'.pck')\n",
    "    trans01 = ff(trans,n,ffile)\n",
    "    fres.append(ffile)\n",
    "    #print('6 :',datetime.datetime.now())\n",
    "    \n",
    "print('7 :',datetime.datetime.now())\n",
    "print('fres=',len(fres))\n",
    "trans01.head()"
   ]
  },
  {
   "cell_type": "code",
   "execution_count": 153,
   "metadata": {
    "collapsed": false
   },
   "outputs": [
    {
     "name": "stdout",
     "output_type": "stream",
     "text": [
      "(916397, 25)\n"
     ]
    },
    {
     "data": {
      "text/html": [
       "<div>\n",
       "<table border=\"1\" class=\"dataframe\">\n",
       "  <thead>\n",
       "    <tr style=\"text-align: right;\">\n",
       "      <th></th>\n",
       "      <th>user_id</th>\n",
       "      <th>count0</th>\n",
       "      <th>countCnt0</th>\n",
       "      <th>count1</th>\n",
       "      <th>countCnt1</th>\n",
       "      <th>b0n0</th>\n",
       "      <th>b0n1</th>\n",
       "      <th>b0n2</th>\n",
       "      <th>b0n3</th>\n",
       "      <th>b0n4</th>\n",
       "      <th>...</th>\n",
       "      <th>b0v0</th>\n",
       "      <th>b0v1</th>\n",
       "      <th>b0v2</th>\n",
       "      <th>b0v3</th>\n",
       "      <th>b0v4</th>\n",
       "      <th>b1v0</th>\n",
       "      <th>b1v1</th>\n",
       "      <th>b1v2</th>\n",
       "      <th>b1v3</th>\n",
       "      <th>b1v4</th>\n",
       "    </tr>\n",
       "    <tr>\n",
       "      <th>user_id</th>\n",
       "      <th></th>\n",
       "      <th></th>\n",
       "      <th></th>\n",
       "      <th></th>\n",
       "      <th></th>\n",
       "      <th></th>\n",
       "      <th></th>\n",
       "      <th></th>\n",
       "      <th></th>\n",
       "      <th></th>\n",
       "      <th></th>\n",
       "      <th></th>\n",
       "      <th></th>\n",
       "      <th></th>\n",
       "      <th></th>\n",
       "      <th></th>\n",
       "      <th></th>\n",
       "      <th></th>\n",
       "      <th></th>\n",
       "      <th></th>\n",
       "      <th></th>\n",
       "    </tr>\n",
       "  </thead>\n",
       "  <tbody>\n",
       "    <tr>\n",
       "      <th>1198780</th>\n",
       "      <td>1198780.0</td>\n",
       "      <td>2.0</td>\n",
       "      <td>2.0</td>\n",
       "      <td>1.0</td>\n",
       "      <td>1.0</td>\n",
       "      <td>21.0</td>\n",
       "      <td>80.0</td>\n",
       "      <td>-1.0</td>\n",
       "      <td>-1.0</td>\n",
       "      <td>-1.0</td>\n",
       "      <td>...</td>\n",
       "      <td>1.0</td>\n",
       "      <td>1.0</td>\n",
       "      <td>-1.0</td>\n",
       "      <td>-1.0</td>\n",
       "      <td>-1.0</td>\n",
       "      <td>1.0</td>\n",
       "      <td>-1.0</td>\n",
       "      <td>-1.0</td>\n",
       "      <td>-1.0</td>\n",
       "      <td>-1.0</td>\n",
       "    </tr>\n",
       "    <tr>\n",
       "      <th>1198781</th>\n",
       "      <td>1198781.0</td>\n",
       "      <td>10.0</td>\n",
       "      <td>18.0</td>\n",
       "      <td>NaN</td>\n",
       "      <td>NaN</td>\n",
       "      <td>70.0</td>\n",
       "      <td>0.0</td>\n",
       "      <td>6.0</td>\n",
       "      <td>25.0</td>\n",
       "      <td>39.0</td>\n",
       "      <td>...</td>\n",
       "      <td>3.0</td>\n",
       "      <td>1.0</td>\n",
       "      <td>1.0</td>\n",
       "      <td>1.0</td>\n",
       "      <td>1.0</td>\n",
       "      <td>NaN</td>\n",
       "      <td>NaN</td>\n",
       "      <td>NaN</td>\n",
       "      <td>NaN</td>\n",
       "      <td>NaN</td>\n",
       "    </tr>\n",
       "    <tr>\n",
       "      <th>1198782</th>\n",
       "      <td>1198782.0</td>\n",
       "      <td>3.0</td>\n",
       "      <td>7.0</td>\n",
       "      <td>NaN</td>\n",
       "      <td>NaN</td>\n",
       "      <td>37.0</td>\n",
       "      <td>55.0</td>\n",
       "      <td>77.0</td>\n",
       "      <td>-1.0</td>\n",
       "      <td>-1.0</td>\n",
       "      <td>...</td>\n",
       "      <td>1.0</td>\n",
       "      <td>1.0</td>\n",
       "      <td>1.0</td>\n",
       "      <td>-1.0</td>\n",
       "      <td>-1.0</td>\n",
       "      <td>NaN</td>\n",
       "      <td>NaN</td>\n",
       "      <td>NaN</td>\n",
       "      <td>NaN</td>\n",
       "      <td>NaN</td>\n",
       "    </tr>\n",
       "    <tr>\n",
       "      <th>1198783</th>\n",
       "      <td>1198783.0</td>\n",
       "      <td>23.0</td>\n",
       "      <td>33.0</td>\n",
       "      <td>4.0</td>\n",
       "      <td>4.0</td>\n",
       "      <td>23.0</td>\n",
       "      <td>39.0</td>\n",
       "      <td>5.0</td>\n",
       "      <td>6.0</td>\n",
       "      <td>15.0</td>\n",
       "      <td>...</td>\n",
       "      <td>2.0</td>\n",
       "      <td>2.0</td>\n",
       "      <td>1.0</td>\n",
       "      <td>1.0</td>\n",
       "      <td>1.0</td>\n",
       "      <td>1.0</td>\n",
       "      <td>1.0</td>\n",
       "      <td>1.0</td>\n",
       "      <td>1.0</td>\n",
       "      <td>-1.0</td>\n",
       "    </tr>\n",
       "    <tr>\n",
       "      <th>1198784</th>\n",
       "      <td>1198784.0</td>\n",
       "      <td>4.0</td>\n",
       "      <td>10.0</td>\n",
       "      <td>1.0</td>\n",
       "      <td>1.0</td>\n",
       "      <td>26.0</td>\n",
       "      <td>68.0</td>\n",
       "      <td>79.0</td>\n",
       "      <td>95.0</td>\n",
       "      <td>-1.0</td>\n",
       "      <td>...</td>\n",
       "      <td>1.0</td>\n",
       "      <td>1.0</td>\n",
       "      <td>1.0</td>\n",
       "      <td>1.0</td>\n",
       "      <td>-1.0</td>\n",
       "      <td>1.0</td>\n",
       "      <td>-1.0</td>\n",
       "      <td>-1.0</td>\n",
       "      <td>-1.0</td>\n",
       "      <td>-1.0</td>\n",
       "    </tr>\n",
       "  </tbody>\n",
       "</table>\n",
       "<p>5 rows × 25 columns</p>\n",
       "</div>"
      ],
      "text/plain": [
       "           user_id  count0  countCnt0  count1  countCnt1  b0n0  b0n1  b0n2  \\\n",
       "user_id                                                                      \n",
       "1198780  1198780.0     2.0        2.0     1.0        1.0  21.0  80.0  -1.0   \n",
       "1198781  1198781.0    10.0       18.0     NaN        NaN  70.0   0.0   6.0   \n",
       "1198782  1198782.0     3.0        7.0     NaN        NaN  37.0  55.0  77.0   \n",
       "1198783  1198783.0    23.0       33.0     4.0        4.0  23.0  39.0   5.0   \n",
       "1198784  1198784.0     4.0       10.0     1.0        1.0  26.0  68.0  79.0   \n",
       "\n",
       "         b0n3  b0n4  ...   b0v0  b0v1  b0v2  b0v3  b0v4  b1v0  b1v1  b1v2  \\\n",
       "user_id              ...                                                    \n",
       "1198780  -1.0  -1.0  ...    1.0   1.0  -1.0  -1.0  -1.0   1.0  -1.0  -1.0   \n",
       "1198781  25.0  39.0  ...    3.0   1.0   1.0   1.0   1.0   NaN   NaN   NaN   \n",
       "1198782  -1.0  -1.0  ...    1.0   1.0   1.0  -1.0  -1.0   NaN   NaN   NaN   \n",
       "1198783   6.0  15.0  ...    2.0   2.0   1.0   1.0   1.0   1.0   1.0   1.0   \n",
       "1198784  95.0  -1.0  ...    1.0   1.0   1.0   1.0  -1.0   1.0  -1.0  -1.0   \n",
       "\n",
       "         b1v3  b1v4  \n",
       "user_id              \n",
       "1198780  -1.0  -1.0  \n",
       "1198781   NaN   NaN  \n",
       "1198782   NaN   NaN  \n",
       "1198783   1.0  -1.0  \n",
       "1198784  -1.0  -1.0  \n",
       "\n",
       "[5 rows x 25 columns]"
      ]
     },
     "execution_count": 153,
     "metadata": {},
     "output_type": "execute_result"
    }
   ],
   "source": [
    "ff  = pd.read_pickle(fres[0])\n",
    "for ifile in fres[1:len(fres)] :\n",
    "    ff1 = pd.read_pickle(ifile)\n",
    "    ff  = pd.concat([ff,ff1])\n",
    "    del ff1\n",
    "print(ff.shape)\n",
    "ff.tail()"
   ]
  },
  {
   "cell_type": "code",
   "execution_count": 154,
   "metadata": {
    "collapsed": false
   },
   "outputs": [
    {
     "name": "stdout",
     "output_type": "stream",
     "text": [
      "(916397, 25)\n"
     ]
    }
   ],
   "source": [
    "print(ff.shape)\n",
    "ff.to_pickle(os.path.join(pickleDir,'trans01-user-id-all.pck'))\n",
    "del ff"
   ]
  },
  {
   "cell_type": "code",
   "execution_count": 155,
   "metadata": {
    "collapsed": false
   },
   "outputs": [
    {
     "data": {
      "text/plain": [
       "(916397, 25)"
      ]
     },
     "execution_count": 155,
     "metadata": {},
     "output_type": "execute_result"
    }
   ],
   "source": [
    "ff = pd.read_pickle(os.path.join(pickleDir,'trans01-user-id-all.pck'))\n",
    "ff.shape"
   ]
  },
  {
   "cell_type": "code",
   "execution_count": 156,
   "metadata": {
    "collapsed": false
   },
   "outputs": [
    {
     "name": "stdout",
     "output_type": "stream",
     "text": [
      "result(len,0+1,only 0) --> 916397 596662 319735\n"
     ]
    }
   ],
   "source": [
    "print('result(len,0+1,only 0) -->',ff.shape[0],ff[pd.notnull(ff.count1)].shape[0],ff[pd.isnull(ff.count1)].shape[0])"
   ]
  },
  {
   "cell_type": "code",
   "execution_count": 157,
   "metadata": {
    "collapsed": false
   },
   "outputs": [
    {
     "data": {
      "text/plain": [
       "0.21921176084164395"
      ]
     },
     "execution_count": 157,
     "metadata": {},
     "output_type": "execute_result"
    }
   ],
   "source": [
    "ff[ff.b0n0==ff.b1n0].shape[0]/ff.shape[0]"
   ]
  },
  {
   "cell_type": "code",
   "execution_count": 158,
   "metadata": {
    "collapsed": false
   },
   "outputs": [
    {
     "name": "stdout",
     "output_type": "stream",
     "text": [
      "count0 = (mean,max) 24.200748090185822 491.0\n",
      "count1 = (mean,max) 3.3277031217003934 100.0\n"
     ]
    }
   ],
   "source": [
    "print('count0 = (mean,max)',ff['count0'].mean(),ff['count0'].max())\n",
    "print('count1 = (mean,max)',ff['count1'].mean(),ff['count1'].max())"
   ]
  },
  {
   "cell_type": "code",
   "execution_count": 159,
   "metadata": {
    "collapsed": true
   },
   "outputs": [],
   "source": [
    "import matplotlib\n",
    "matplotlib.style.use('ggplot')"
   ]
  },
  {
   "cell_type": "code",
   "execution_count": 160,
   "metadata": {
    "collapsed": false
   },
   "outputs": [
    {
     "data": {
      "text/plain": [
       "<matplotlib.axes._subplots.AxesSubplot at 0x248b626a320>"
      ]
     },
     "execution_count": 160,
     "metadata": {},
     "output_type": "execute_result"
    }
   ],
   "source": [
    "ff[['count0','count1']].plot(x='count0',y='count1')"
   ]
  },
  {
   "cell_type": "code",
   "execution_count": null,
   "metadata": {
    "collapsed": true
   },
   "outputs": [],
   "source": []
  }
 ],
 "metadata": {
  "kernelspec": {
   "display_name": "Python 3",
   "language": "python",
   "name": "python3"
  },
  "language_info": {
   "codemirror_mode": {
    "name": "ipython",
    "version": 3
   },
   "file_extension": ".py",
   "mimetype": "text/x-python",
   "name": "python",
   "nbconvert_exporter": "python",
   "pygments_lexer": "ipython3",
   "version": "3.5.1"
  }
 },
 "nbformat": 4,
 "nbformat_minor": 0
}
