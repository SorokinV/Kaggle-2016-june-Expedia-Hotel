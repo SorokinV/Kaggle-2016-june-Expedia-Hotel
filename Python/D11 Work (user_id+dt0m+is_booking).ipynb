{
 "cells": [
  {
   "cell_type": "code",
   "execution_count": 1,
   "metadata": {
    "collapsed": true
   },
   "outputs": [],
   "source": [
    "import datetime\n",
    "import os\n",
    "\n",
    "import numpy  as np\n",
    "import pandas as pd"
   ]
  },
  {
   "cell_type": "code",
   "execution_count": 2,
   "metadata": {
    "collapsed": true
   },
   "outputs": [],
   "source": [
    "# Variables\n",
    "\n",
    "pickleDir = '../Data/Pickle'\n",
    "inputFile = '../Data/Fields/D11.csv'\n"
   ]
  },
  {
   "cell_type": "code",
   "execution_count": 3,
   "metadata": {
    "collapsed": false
   },
   "outputs": [
    {
     "name": "stdout",
     "output_type": "stream",
     "text": [
      "input datas: 2016-05-26 00:00:01.243289\n",
      "end input 2016-05-26 00:00:13.670753\n",
      "          user_id  is_booking  dt0m  dt0y  hotel_cluster  countCnt  count\n",
      "15015383  1198784           0     4  2015             26         2      1\n",
      "15015384  1198784           0     4  2015             68         6      1\n",
      "15015385  1198784           0     4  2015             95         1      1\n",
      "15015386  1198784           0     8  2014             79         1      1\n",
      "15015387  1198784           1     8  2014             79         1      1\n"
     ]
    }
   ],
   "source": [
    "print('input datas:',datetime.datetime.now())\n",
    "\n",
    "frame = pd.read_csv(inputFile)\n",
    "\n",
    "print('end input',datetime.datetime.now())\n",
    "print(frame.tail())"
   ]
  },
  {
   "cell_type": "code",
   "execution_count": 4,
   "metadata": {
    "collapsed": false
   },
   "outputs": [
    {
     "name": "stdout",
     "output_type": "stream",
     "text": [
      "user+dt0m+book = 4379395\n",
      "grouped datas: 2016-05-26 00:10:05.453479\n"
     ]
    }
   ],
   "source": [
    "grouped=frame.groupby(['user_id','dt0m','is_booking']); print('user+dt0m+book =',len(grouped))\n",
    "print('grouped datas:',datetime.datetime.now())"
   ]
  },
  {
   "cell_type": "code",
   "execution_count": 5,
   "metadata": {
    "collapsed": false
   },
   "outputs": [
    {
     "name": "stdout",
     "output_type": "stream",
     "text": [
      "4379395\n"
     ]
    }
   ],
   "source": [
    "print(len(grouped))"
   ]
  },
  {
   "cell_type": "code",
   "execution_count": 6,
   "metadata": {
    "collapsed": false
   },
   "outputs": [],
   "source": [
    "i        = -1\n",
    "nLargest =  5; n = nLargest;\n",
    "\n",
    "dcol = ['count','countCnt'] + ['n'+str(i) for i in range(5)] + ['cc'+str(i) for i in range(100)]\n",
    "dcol = ['count','countCnt'] + ['n'+str(i) for i in range(n)]  + ['v'+str(i) for i in range(n)] \n",
    "def f (xgroup) :\n",
    "    global i,n\n",
    "    d00  = np.zeros((100));d00[xgroup['hotel_cluster']]+=xgroup['count']\n",
    "    dsum = xgroup['countCnt'].sum()\n",
    "    dcnt = xgroup['count'].sum()\n",
    "    d05  = pd.Series(d00); \n",
    "    n05=d05[d05>0].nlargest(n).index.tolist()+[-1]*n; n05=n05[0:n];\n",
    "    v05=d05[d05>0].nlargest(n).tolist()+[-1]*n;       v05=v05[0:n];\n",
    "    ddd  = [dcnt,dsum] + n05 + v05 # + d00.tolist()\n",
    "    #i   += 1\n",
    "    #if (i%10000==0) : print('5 :',datetime.datetime.now(),\" i = \",i)\n",
    "\n",
    "    \n",
    "    return(pd.DataFrame(ddd,index=dcol).T)\n",
    "\n"
   ]
  },
  {
   "cell_type": "code",
   "execution_count": 37,
   "metadata": {
    "collapsed": false
   },
   "outputs": [],
   "source": [
    "\n",
    "def ff (transx,nn,filepickle) :\n",
    "    trans0 = transx.query('is_booking==0')[['user_id','dt0m','is_booking','count','countCnt']+ \\\n",
    "                                           ['n'+str(i) for i in range(nn)]+['v'+str(i) for i in range(nn)]]\n",
    "    trans0.index = [trans0.user_id.as_matrix(),trans0.dt0m.as_matrix()]\n",
    "\n",
    "    trans1 = transx.query('is_booking==1')[['user_id','dt0m','is_booking','count','countCnt']+ \\\n",
    "                                           ['n'+str(i) for i in range(nn)]+['v'+str(i) for i in range(nn)]]\n",
    "    trans1.index = [trans1.user_id.as_matrix(),trans1.dt0m.as_matrix()]\n",
    "\n",
    "    trans01 = pd.concat([trans0,trans1],axis=1)\n",
    "\n",
    "    trans01.columns = ['user_id','dt0m','bo0','count0','countCnt0']+['b0n'+str(i) for i in range(nn)]+['b0v'+str(i) for i in range(nn)]+ \\\n",
    "                        ['h1','dt01','bo1','count1','countCnt1']+['b1n'+str(i) for i in range(nn)]+['b1v'+str(i) for i in range(nn)]\n",
    "    trans01 = trans01[['user_id','dt0m','count0','countCnt0','count1','countCnt1'] + \\\n",
    "                      ['b0n'+str(i) for i in range(nn)]+['b1n'+str(i) for i in range(nn)]+ \\\n",
    "                      ['b0v'+str(i) for i in range(nn)]+['b1v'+str(i) for i in range(nn)]]\n",
    "    \n",
    "    trans01.to_pickle(filepickle)\n",
    "    \n",
    "    return(trans01)\n"
   ]
  },
  {
   "cell_type": "code",
   "execution_count": 40,
   "metadata": {
    "collapsed": false
   },
   "outputs": [
    {
     "name": "stdout",
     "output_type": "stream",
     "text": [
      "4379395\n",
      "0 1198784\n",
      "71 [(0, 17000), (17000, 34000), (34000, 51000), (51000, 68000), (68000, 85000)]\n",
      "71 [(1037000, 1054000), (1054000, 1071000), (1071000, 1088000), (1088000, 1105000), (1105000, 1122000), (1122000, 1139000), (1139000, 1156000), (1156000, 1173000), (1173000, 1190000), (1190000, 1198785)]\n",
      "5 5\n"
     ]
    }
   ],
   "source": [
    "print(len(grouped))\n",
    "print(frame['user_id'].min(),frame['user_id'].max())\n",
    "\n",
    "ll = frame['user_id'].max()+1\n",
    "l = [i for i in range(0,ll,17000)]\n",
    "if (l[len(l)-1]!=ll) : l.append(ll)\n",
    "mm = [(l[i],l[i+1]) for i in range(len(l)-1)]\n",
    "#print(m)\n",
    "#for i1,i2 in mm[-10:] : print((i2-i1))\n",
    "print(len(mm),mm[0:5])\n",
    "print(len(mm),mm[-10:])\n",
    "print(nLargest,n)"
   ]
  },
  {
   "cell_type": "code",
   "execution_count": 41,
   "metadata": {
    "collapsed": false
   },
   "outputs": [
    {
     "name": "stdout",
     "output_type": "stream",
     "text": [
      "4 : 2016-05-26 01:39:50.694792  i1,i2= 0 17000\n"
     ]
    },
    {
     "name": "stderr",
     "output_type": "stream",
     "text": [
      "C:\\Anaconda3-64\\lib\\site-packages\\ipykernel\\__main__.py:8: VisibleDeprecationWarning: using a non-integer number instead of an integer will result in an error in the future\n"
     ]
    },
    {
     "name": "stdout",
     "output_type": "stream",
     "text": [
      "4 : 2016-05-26 01:43:39.586588  i1,i2= 17000 34000\n",
      "4 : 2016-05-26 01:48:59.329848  i1,i2= 34000 51000\n",
      "4 : 2016-05-26 01:54:49.551550  i1,i2= 51000 68000\n",
      "4 : 2016-05-26 02:00:59.931143  i1,i2= 68000 85000\n",
      "4 : 2016-05-26 02:08:58.095166  i1,i2= 85000 102000\n",
      "4 : 2016-05-26 02:15:28.019238  i1,i2= 102000 119000\n",
      "4 : 2016-05-26 02:21:47.772370  i1,i2= 119000 136000\n",
      "4 : 2016-05-26 02:28:23.576804  i1,i2= 136000 153000\n",
      "4 : 2016-05-26 02:34:57.082974  i1,i2= 153000 170000\n",
      "4 : 2016-05-26 02:42:20.701682  i1,i2= 170000 187000\n",
      "4 : 2016-05-26 02:48:56.414023  i1,i2= 187000 204000\n",
      "4 : 2016-05-26 02:56:17.235902  i1,i2= 204000 221000\n",
      "4 : 2016-05-26 03:01:17.314362  i1,i2= 221000 238000\n",
      "4 : 2016-05-26 03:05:53.347965  i1,i2= 238000 255000\n",
      "4 : 2016-05-26 03:14:20.737088  i1,i2= 255000 272000\n",
      "4 : 2016-05-26 03:26:04.257042  i1,i2= 272000 289000\n",
      "4 : 2016-05-26 03:34:18.938004  i1,i2= 289000 306000\n",
      "4 : 2016-05-26 04:05:08.829038  i1,i2= 306000 323000\n",
      "4 : 2016-05-26 04:16:26.091821  i1,i2= 323000 340000\n",
      "4 : 2016-05-26 04:23:33.341996  i1,i2= 340000 357000\n",
      "4 : 2016-05-26 04:30:22.131383  i1,i2= 357000 374000\n",
      "4 : 2016-05-26 04:37:03.754306  i1,i2= 374000 391000\n",
      "4 : 2016-05-26 05:01:34.006831  i1,i2= 391000 408000\n",
      "4 : 2016-05-26 05:11:03.945492  i1,i2= 408000 425000\n",
      "4 : 2016-05-26 05:27:41.644259  i1,i2= 425000 442000\n",
      "4 : 2016-05-26 06:11:23.243762  i1,i2= 442000 459000\n",
      "4 : 2016-05-26 07:19:35.980577  i1,i2= 459000 476000\n",
      "4 : 2016-05-26 07:57:26.917756  i1,i2= 476000 493000\n",
      "4 : 2016-05-26 08:03:56.374808  i1,i2= 493000 510000\n",
      "4 : 2016-05-26 08:11:57.415645  i1,i2= 510000 527000\n",
      "4 : 2016-05-26 08:19:02.994932  i1,i2= 527000 544000\n",
      "4 : 2016-05-26 08:25:28.849224  i1,i2= 544000 561000\n",
      "4 : 2016-05-26 08:32:33.713929  i1,i2= 561000 578000\n",
      "4 : 2016-05-26 08:39:33.564751  i1,i2= 578000 595000\n",
      "4 : 2016-05-26 08:46:34.732803  i1,i2= 595000 612000\n",
      "4 : 2016-05-26 08:54:12.917835  i1,i2= 612000 629000\n",
      "4 : 2016-05-26 09:16:06.734163  i1,i2= 629000 646000\n",
      "4 : 2016-05-26 09:24:02.930664  i1,i2= 646000 663000\n",
      "4 : 2016-05-26 09:41:00.881215  i1,i2= 663000 680000\n",
      "4 : 2016-05-26 09:51:04.835102  i1,i2= 680000 697000\n",
      "4 : 2016-05-26 09:57:45.530686  i1,i2= 697000 714000\n",
      "4 : 2016-05-26 10:02:52.845355  i1,i2= 714000 731000\n",
      "4 : 2016-05-26 10:19:10.447848  i1,i2= 731000 748000\n",
      "4 : 2016-05-26 10:37:15.302660  i1,i2= 748000 765000\n",
      "4 : 2016-05-26 10:52:21.344501  i1,i2= 765000 782000\n",
      "4 : 2016-05-26 10:59:07.712189  i1,i2= 782000 799000\n",
      "4 : 2016-05-26 11:04:56.907445  i1,i2= 799000 816000\n",
      "4 : 2016-05-26 11:13:54.792574  i1,i2= 816000 833000\n",
      "4 : 2016-05-26 11:29:22.245628  i1,i2= 833000 850000\n",
      "4 : 2016-05-26 11:46:17.728614  i1,i2= 850000 867000\n",
      "4 : 2016-05-26 11:54:30.337985  i1,i2= 867000 884000\n",
      "4 : 2016-05-26 12:07:30.359965  i1,i2= 884000 901000\n",
      "4 : 2016-05-26 12:20:30.823077  i1,i2= 901000 918000\n",
      "4 : 2016-05-26 12:48:16.995641  i1,i2= 918000 935000\n",
      "4 : 2016-05-26 12:55:27.703533  i1,i2= 935000 952000\n",
      "4 : 2016-05-26 13:33:19.220032  i1,i2= 952000 969000\n",
      "4 : 2016-05-26 14:12:53.578233  i1,i2= 969000 986000\n",
      "4 : 2016-05-26 15:13:05.790487  i1,i2= 986000 1003000\n",
      "4 : 2016-05-26 15:21:21.679842  i1,i2= 1003000 1020000\n",
      "4 : 2016-05-26 15:29:03.670133  i1,i2= 1020000 1037000\n",
      "4 : 2016-05-26 15:41:16.897548  i1,i2= 1037000 1054000\n",
      "4 : 2016-05-26 15:49:16.791010  i1,i2= 1054000 1071000\n",
      "4 : 2016-05-26 15:58:07.273040  i1,i2= 1071000 1088000\n",
      "4 : 2016-05-26 16:06:15.497281  i1,i2= 1088000 1105000\n",
      "4 : 2016-05-26 16:14:10.858370  i1,i2= 1105000 1122000\n",
      "4 : 2016-05-26 16:22:46.598870  i1,i2= 1122000 1139000\n",
      "4 : 2016-05-26 16:30:51.902154  i1,i2= 1139000 1156000\n",
      "4 : 2016-05-26 16:38:29.539105  i1,i2= 1156000 1173000\n",
      "4 : 2016-05-26 16:44:09.678113  i1,i2= 1173000 1190000\n",
      "4 : 2016-05-26 16:49:35.936084  i1,i2= 1190000 1198785\n",
      "7 : 2016-05-26 16:52:42.946557\n",
      "fres= 71\n"
     ]
    },
    {
     "data": {
      "text/html": [
       "<div>\n",
       "<table border=\"1\" class=\"dataframe\">\n",
       "  <thead>\n",
       "    <tr style=\"text-align: right;\">\n",
       "      <th></th>\n",
       "      <th></th>\n",
       "      <th>user_id</th>\n",
       "      <th>dt0m</th>\n",
       "      <th>count0</th>\n",
       "      <th>countCnt0</th>\n",
       "      <th>count1</th>\n",
       "      <th>countCnt1</th>\n",
       "      <th>b0n0</th>\n",
       "      <th>b0n1</th>\n",
       "      <th>b0n2</th>\n",
       "      <th>b0n3</th>\n",
       "      <th>...</th>\n",
       "      <th>b0v0</th>\n",
       "      <th>b0v1</th>\n",
       "      <th>b0v2</th>\n",
       "      <th>b0v3</th>\n",
       "      <th>b0v4</th>\n",
       "      <th>b1v0</th>\n",
       "      <th>b1v1</th>\n",
       "      <th>b1v2</th>\n",
       "      <th>b1v3</th>\n",
       "      <th>b1v4</th>\n",
       "    </tr>\n",
       "  </thead>\n",
       "  <tbody>\n",
       "    <tr>\n",
       "      <th>1190000</th>\n",
       "      <th>1</th>\n",
       "      <td>1190000.0</td>\n",
       "      <td>1.0</td>\n",
       "      <td>55.0</td>\n",
       "      <td>104.0</td>\n",
       "      <td>NaN</td>\n",
       "      <td>NaN</td>\n",
       "      <td>4.0</td>\n",
       "      <td>1.0</td>\n",
       "      <td>19.0</td>\n",
       "      <td>55.0</td>\n",
       "      <td>...</td>\n",
       "      <td>13.0</td>\n",
       "      <td>11.0</td>\n",
       "      <td>5.0</td>\n",
       "      <td>5.0</td>\n",
       "      <td>3.0</td>\n",
       "      <td>NaN</td>\n",
       "      <td>NaN</td>\n",
       "      <td>NaN</td>\n",
       "      <td>NaN</td>\n",
       "      <td>NaN</td>\n",
       "    </tr>\n",
       "    <tr>\n",
       "      <th rowspan=\"2\" valign=\"top\">1190001</th>\n",
       "      <th>1</th>\n",
       "      <td>1190001.0</td>\n",
       "      <td>1.0</td>\n",
       "      <td>3.0</td>\n",
       "      <td>4.0</td>\n",
       "      <td>1.0</td>\n",
       "      <td>2.0</td>\n",
       "      <td>9.0</td>\n",
       "      <td>42.0</td>\n",
       "      <td>-1.0</td>\n",
       "      <td>-1.0</td>\n",
       "      <td>...</td>\n",
       "      <td>2.0</td>\n",
       "      <td>1.0</td>\n",
       "      <td>-1.0</td>\n",
       "      <td>-1.0</td>\n",
       "      <td>-1.0</td>\n",
       "      <td>1.0</td>\n",
       "      <td>-1.0</td>\n",
       "      <td>-1.0</td>\n",
       "      <td>-1.0</td>\n",
       "      <td>-1.0</td>\n",
       "    </tr>\n",
       "    <tr>\n",
       "      <th>7</th>\n",
       "      <td>1190001.0</td>\n",
       "      <td>7.0</td>\n",
       "      <td>2.0</td>\n",
       "      <td>2.0</td>\n",
       "      <td>NaN</td>\n",
       "      <td>NaN</td>\n",
       "      <td>41.0</td>\n",
       "      <td>-1.0</td>\n",
       "      <td>-1.0</td>\n",
       "      <td>-1.0</td>\n",
       "      <td>...</td>\n",
       "      <td>2.0</td>\n",
       "      <td>-1.0</td>\n",
       "      <td>-1.0</td>\n",
       "      <td>-1.0</td>\n",
       "      <td>-1.0</td>\n",
       "      <td>NaN</td>\n",
       "      <td>NaN</td>\n",
       "      <td>NaN</td>\n",
       "      <td>NaN</td>\n",
       "      <td>NaN</td>\n",
       "    </tr>\n",
       "    <tr>\n",
       "      <th>1190003</th>\n",
       "      <th>10</th>\n",
       "      <td>1190003.0</td>\n",
       "      <td>10.0</td>\n",
       "      <td>2.0</td>\n",
       "      <td>2.0</td>\n",
       "      <td>1.0</td>\n",
       "      <td>1.0</td>\n",
       "      <td>25.0</td>\n",
       "      <td>55.0</td>\n",
       "      <td>-1.0</td>\n",
       "      <td>-1.0</td>\n",
       "      <td>...</td>\n",
       "      <td>1.0</td>\n",
       "      <td>1.0</td>\n",
       "      <td>-1.0</td>\n",
       "      <td>-1.0</td>\n",
       "      <td>-1.0</td>\n",
       "      <td>1.0</td>\n",
       "      <td>-1.0</td>\n",
       "      <td>-1.0</td>\n",
       "      <td>-1.0</td>\n",
       "      <td>-1.0</td>\n",
       "    </tr>\n",
       "    <tr>\n",
       "      <th>1190005</th>\n",
       "      <th>1</th>\n",
       "      <td>1190005.0</td>\n",
       "      <td>1.0</td>\n",
       "      <td>7.0</td>\n",
       "      <td>7.0</td>\n",
       "      <td>1.0</td>\n",
       "      <td>1.0</td>\n",
       "      <td>7.0</td>\n",
       "      <td>10.0</td>\n",
       "      <td>12.0</td>\n",
       "      <td>14.0</td>\n",
       "      <td>...</td>\n",
       "      <td>1.0</td>\n",
       "      <td>1.0</td>\n",
       "      <td>1.0</td>\n",
       "      <td>1.0</td>\n",
       "      <td>1.0</td>\n",
       "      <td>1.0</td>\n",
       "      <td>-1.0</td>\n",
       "      <td>-1.0</td>\n",
       "      <td>-1.0</td>\n",
       "      <td>-1.0</td>\n",
       "    </tr>\n",
       "  </tbody>\n",
       "</table>\n",
       "<p>5 rows × 26 columns</p>\n",
       "</div>"
      ],
      "text/plain": [
       "              user_id  dt0m  count0  countCnt0  count1  countCnt1  b0n0  b0n1  \\\n",
       "1190000 1   1190000.0   1.0    55.0      104.0     NaN        NaN   4.0   1.0   \n",
       "1190001 1   1190001.0   1.0     3.0        4.0     1.0        2.0   9.0  42.0   \n",
       "        7   1190001.0   7.0     2.0        2.0     NaN        NaN  41.0  -1.0   \n",
       "1190003 10  1190003.0  10.0     2.0        2.0     1.0        1.0  25.0  55.0   \n",
       "1190005 1   1190005.0   1.0     7.0        7.0     1.0        1.0   7.0  10.0   \n",
       "\n",
       "            b0n2  b0n3  ...   b0v0  b0v1  b0v2  b0v3  b0v4  b1v0  b1v1  b1v2  \\\n",
       "1190000 1   19.0  55.0  ...   13.0  11.0   5.0   5.0   3.0   NaN   NaN   NaN   \n",
       "1190001 1   -1.0  -1.0  ...    2.0   1.0  -1.0  -1.0  -1.0   1.0  -1.0  -1.0   \n",
       "        7   -1.0  -1.0  ...    2.0  -1.0  -1.0  -1.0  -1.0   NaN   NaN   NaN   \n",
       "1190003 10  -1.0  -1.0  ...    1.0   1.0  -1.0  -1.0  -1.0   1.0  -1.0  -1.0   \n",
       "1190005 1   12.0  14.0  ...    1.0   1.0   1.0   1.0   1.0   1.0  -1.0  -1.0   \n",
       "\n",
       "            b1v3  b1v4  \n",
       "1190000 1    NaN   NaN  \n",
       "1190001 1   -1.0  -1.0  \n",
       "        7    NaN   NaN  \n",
       "1190003 10  -1.0  -1.0  \n",
       "1190005 1   -1.0  -1.0  \n",
       "\n",
       "[5 rows x 26 columns]"
      ]
     },
     "execution_count": 41,
     "metadata": {},
     "output_type": "execute_result"
    }
   ],
   "source": [
    "fres = []\n",
    "i1,i2 = 10000,20000\n",
    "for i1,i2 in mm :\n",
    "    print('4 :',datetime.datetime.now(),' i1,i2=',i1,i2)\n",
    "    cond = '('+str(i1)+'<=user_id)&(user_id<'+str(i2)+')'\n",
    "    grouped100 = frame.query(cond).groupby(['user_id','dt0m','is_booking']); \n",
    "    #print('user+book =',len(grouped100))\n",
    "    #print('grouped (x in) datas:',datetime.datetime.now())\n",
    "    i, n = -1, nLargest\n",
    "    trans   = grouped100.apply(f);\n",
    "    trans   = trans.reset_index()\n",
    "    ffile   = os.path.join(pickleDir,'trans01-'+str(i1+1000000000)+'.pck')\n",
    "    trans01 = ff(trans,n,ffile)\n",
    "    fres.append(ffile)\n",
    "    #print('6 :',datetime.datetime.now())\n",
    "    \n",
    "print('7 :',datetime.datetime.now())\n",
    "print('fres=',len(fres))\n",
    "trans01.head()"
   ]
  },
  {
   "cell_type": "code",
   "execution_count": 42,
   "metadata": {
    "collapsed": false
   },
   "outputs": [
    {
     "name": "stdout",
     "output_type": "stream",
     "text": [
      "(3120154, 26)\n"
     ]
    },
    {
     "data": {
      "text/html": [
       "<div>\n",
       "<table border=\"1\" class=\"dataframe\">\n",
       "  <thead>\n",
       "    <tr style=\"text-align: right;\">\n",
       "      <th></th>\n",
       "      <th></th>\n",
       "      <th>user_id</th>\n",
       "      <th>dt0m</th>\n",
       "      <th>count0</th>\n",
       "      <th>countCnt0</th>\n",
       "      <th>count1</th>\n",
       "      <th>countCnt1</th>\n",
       "      <th>b0n0</th>\n",
       "      <th>b0n1</th>\n",
       "      <th>b0n2</th>\n",
       "      <th>b0n3</th>\n",
       "      <th>...</th>\n",
       "      <th>b0v0</th>\n",
       "      <th>b0v1</th>\n",
       "      <th>b0v2</th>\n",
       "      <th>b0v3</th>\n",
       "      <th>b0v4</th>\n",
       "      <th>b1v0</th>\n",
       "      <th>b1v1</th>\n",
       "      <th>b1v2</th>\n",
       "      <th>b1v3</th>\n",
       "      <th>b1v4</th>\n",
       "    </tr>\n",
       "  </thead>\n",
       "  <tbody>\n",
       "    <tr>\n",
       "      <th rowspan=\"3\" valign=\"top\">1198783</th>\n",
       "      <th>8</th>\n",
       "      <td>1198783.0</td>\n",
       "      <td>8.0</td>\n",
       "      <td>7.0</td>\n",
       "      <td>12.0</td>\n",
       "      <td>1.0</td>\n",
       "      <td>1.0</td>\n",
       "      <td>91.0</td>\n",
       "      <td>94.0</td>\n",
       "      <td>15.0</td>\n",
       "      <td>47.0</td>\n",
       "      <td>...</td>\n",
       "      <td>2.0</td>\n",
       "      <td>2.0</td>\n",
       "      <td>1.0</td>\n",
       "      <td>1.0</td>\n",
       "      <td>1.0</td>\n",
       "      <td>1.0</td>\n",
       "      <td>-1.0</td>\n",
       "      <td>-1.0</td>\n",
       "      <td>-1.0</td>\n",
       "      <td>-1.0</td>\n",
       "    </tr>\n",
       "    <tr>\n",
       "      <th>9</th>\n",
       "      <td>1198783.0</td>\n",
       "      <td>9.0</td>\n",
       "      <td>1.0</td>\n",
       "      <td>1.0</td>\n",
       "      <td>1.0</td>\n",
       "      <td>1.0</td>\n",
       "      <td>47.0</td>\n",
       "      <td>-1.0</td>\n",
       "      <td>-1.0</td>\n",
       "      <td>-1.0</td>\n",
       "      <td>...</td>\n",
       "      <td>1.0</td>\n",
       "      <td>-1.0</td>\n",
       "      <td>-1.0</td>\n",
       "      <td>-1.0</td>\n",
       "      <td>-1.0</td>\n",
       "      <td>1.0</td>\n",
       "      <td>-1.0</td>\n",
       "      <td>-1.0</td>\n",
       "      <td>-1.0</td>\n",
       "      <td>-1.0</td>\n",
       "    </tr>\n",
       "    <tr>\n",
       "      <th>12</th>\n",
       "      <td>1198783.0</td>\n",
       "      <td>12.0</td>\n",
       "      <td>12.0</td>\n",
       "      <td>16.0</td>\n",
       "      <td>NaN</td>\n",
       "      <td>NaN</td>\n",
       "      <td>23.0</td>\n",
       "      <td>39.0</td>\n",
       "      <td>5.0</td>\n",
       "      <td>6.0</td>\n",
       "      <td>...</td>\n",
       "      <td>2.0</td>\n",
       "      <td>2.0</td>\n",
       "      <td>1.0</td>\n",
       "      <td>1.0</td>\n",
       "      <td>1.0</td>\n",
       "      <td>NaN</td>\n",
       "      <td>NaN</td>\n",
       "      <td>NaN</td>\n",
       "      <td>NaN</td>\n",
       "      <td>NaN</td>\n",
       "    </tr>\n",
       "    <tr>\n",
       "      <th rowspan=\"2\" valign=\"top\">1198784</th>\n",
       "      <th>4</th>\n",
       "      <td>1198784.0</td>\n",
       "      <td>4.0</td>\n",
       "      <td>3.0</td>\n",
       "      <td>9.0</td>\n",
       "      <td>NaN</td>\n",
       "      <td>NaN</td>\n",
       "      <td>26.0</td>\n",
       "      <td>68.0</td>\n",
       "      <td>95.0</td>\n",
       "      <td>-1.0</td>\n",
       "      <td>...</td>\n",
       "      <td>1.0</td>\n",
       "      <td>1.0</td>\n",
       "      <td>1.0</td>\n",
       "      <td>-1.0</td>\n",
       "      <td>-1.0</td>\n",
       "      <td>NaN</td>\n",
       "      <td>NaN</td>\n",
       "      <td>NaN</td>\n",
       "      <td>NaN</td>\n",
       "      <td>NaN</td>\n",
       "    </tr>\n",
       "    <tr>\n",
       "      <th>8</th>\n",
       "      <td>1198784.0</td>\n",
       "      <td>8.0</td>\n",
       "      <td>1.0</td>\n",
       "      <td>1.0</td>\n",
       "      <td>1.0</td>\n",
       "      <td>1.0</td>\n",
       "      <td>79.0</td>\n",
       "      <td>-1.0</td>\n",
       "      <td>-1.0</td>\n",
       "      <td>-1.0</td>\n",
       "      <td>...</td>\n",
       "      <td>1.0</td>\n",
       "      <td>-1.0</td>\n",
       "      <td>-1.0</td>\n",
       "      <td>-1.0</td>\n",
       "      <td>-1.0</td>\n",
       "      <td>1.0</td>\n",
       "      <td>-1.0</td>\n",
       "      <td>-1.0</td>\n",
       "      <td>-1.0</td>\n",
       "      <td>-1.0</td>\n",
       "    </tr>\n",
       "  </tbody>\n",
       "</table>\n",
       "<p>5 rows × 26 columns</p>\n",
       "</div>"
      ],
      "text/plain": [
       "              user_id  dt0m  count0  countCnt0  count1  countCnt1  b0n0  b0n1  \\\n",
       "1198783 8   1198783.0   8.0     7.0       12.0     1.0        1.0  91.0  94.0   \n",
       "        9   1198783.0   9.0     1.0        1.0     1.0        1.0  47.0  -1.0   \n",
       "        12  1198783.0  12.0    12.0       16.0     NaN        NaN  23.0  39.0   \n",
       "1198784 4   1198784.0   4.0     3.0        9.0     NaN        NaN  26.0  68.0   \n",
       "        8   1198784.0   8.0     1.0        1.0     1.0        1.0  79.0  -1.0   \n",
       "\n",
       "            b0n2  b0n3  ...   b0v0  b0v1  b0v2  b0v3  b0v4  b1v0  b1v1  b1v2  \\\n",
       "1198783 8   15.0  47.0  ...    2.0   2.0   1.0   1.0   1.0   1.0  -1.0  -1.0   \n",
       "        9   -1.0  -1.0  ...    1.0  -1.0  -1.0  -1.0  -1.0   1.0  -1.0  -1.0   \n",
       "        12   5.0   6.0  ...    2.0   2.0   1.0   1.0   1.0   NaN   NaN   NaN   \n",
       "1198784 4   95.0  -1.0  ...    1.0   1.0   1.0  -1.0  -1.0   NaN   NaN   NaN   \n",
       "        8   -1.0  -1.0  ...    1.0  -1.0  -1.0  -1.0  -1.0   1.0  -1.0  -1.0   \n",
       "\n",
       "            b1v3  b1v4  \n",
       "1198783 8   -1.0  -1.0  \n",
       "        9   -1.0  -1.0  \n",
       "        12   NaN   NaN  \n",
       "1198784 4    NaN   NaN  \n",
       "        8   -1.0  -1.0  \n",
       "\n",
       "[5 rows x 26 columns]"
      ]
     },
     "execution_count": 42,
     "metadata": {},
     "output_type": "execute_result"
    }
   ],
   "source": [
    "ff  = pd.read_pickle(fres[0])\n",
    "for ifile in fres[1:len(fres)] :\n",
    "    ff1 = pd.read_pickle(ifile)\n",
    "    ff  = pd.concat([ff,ff1])\n",
    "    del ff1\n",
    "print(ff.shape)\n",
    "ff.tail()"
   ]
  },
  {
   "cell_type": "code",
   "execution_count": 43,
   "metadata": {
    "collapsed": false
   },
   "outputs": [
    {
     "name": "stdout",
     "output_type": "stream",
     "text": [
      "(3120154, 26)\n"
     ]
    }
   ],
   "source": [
    "print(ff.shape)\n",
    "ff.to_pickle(os.path.join(pickleDir,'trans01-user_id-dt0m-all.pck'))\n",
    "del ff"
   ]
  },
  {
   "cell_type": "code",
   "execution_count": 44,
   "metadata": {
    "collapsed": false
   },
   "outputs": [
    {
     "data": {
      "text/plain": [
       "(3120154, 26)"
      ]
     },
     "execution_count": 44,
     "metadata": {},
     "output_type": "execute_result"
    }
   ],
   "source": [
    "ff = pd.read_pickle(os.path.join(pickleDir,'trans01-user_id-dt0m-all.pck'))\n",
    "ff.shape"
   ]
  },
  {
   "cell_type": "code",
   "execution_count": 47,
   "metadata": {
    "collapsed": false
   },
   "outputs": [
    {
     "name": "stdout",
     "output_type": "stream",
     "text": [
      "result(len,0+1,only 0) --> 3120154 1276239 1843915\n"
     ]
    },
    {
     "data": {
      "text/plain": [
       "0.40903077219906453"
      ]
     },
     "execution_count": 47,
     "metadata": {},
     "output_type": "execute_result"
    }
   ],
   "source": [
    "print('result(len,0+1,only 0) -->',ff.shape[0],ff[pd.notnull(ff.count1)].shape[0],ff[pd.isnull(ff.count1)].shape[0])\n",
    "ff[pd.notnull(ff.count1)].shape[0]/ff.shape[0]"
   ]
  },
  {
   "cell_type": "code",
   "execution_count": 49,
   "metadata": {
    "collapsed": false
   },
   "outputs": [
    {
     "data": {
      "text/plain": [
       "0.23784531148142046"
      ]
     },
     "execution_count": 49,
     "metadata": {},
     "output_type": "execute_result"
    }
   ],
   "source": [
    "ff[ff.b0n0==ff.b1n0].shape[0]/ff.shape[0]"
   ]
  },
  {
   "cell_type": "code",
   "execution_count": 50,
   "metadata": {
    "collapsed": false
   },
   "outputs": [
    {
     "name": "stdout",
     "output_type": "stream",
     "text": [
      "count0 = (mean,max) 7.141045438901557 491.0\n",
      "count1 = (mean,max) 1.5557540554708014 56.0\n"
     ]
    }
   ],
   "source": [
    "print('count0 = (mean,max)',ff['count0'].mean(),ff['count0'].max())\n",
    "print('count1 = (mean,max)',ff['count1'].mean(),ff['count1'].max())"
   ]
  },
  {
   "cell_type": "code",
   "execution_count": 159,
   "metadata": {
    "collapsed": true
   },
   "outputs": [],
   "source": [
    "import matplotlib\n",
    "matplotlib.style.use('ggplot')"
   ]
  },
  {
   "cell_type": "code",
   "execution_count": 160,
   "metadata": {
    "collapsed": false
   },
   "outputs": [
    {
     "data": {
      "text/plain": [
       "<matplotlib.axes._subplots.AxesSubplot at 0x248b626a320>"
      ]
     },
     "execution_count": 160,
     "metadata": {},
     "output_type": "execute_result"
    }
   ],
   "source": [
    "ff[['count0','count1']].plot(x='count0',y='count1')"
   ]
  },
  {
   "cell_type": "code",
   "execution_count": 52,
   "metadata": {
    "collapsed": false
   },
   "outputs": [
    {
     "data": {
      "text/html": [
       "<div>\n",
       "<table border=\"1\" class=\"dataframe\">\n",
       "  <thead>\n",
       "    <tr style=\"text-align: right;\">\n",
       "      <th></th>\n",
       "      <th></th>\n",
       "      <th>user_id</th>\n",
       "      <th>dt0m</th>\n",
       "      <th>count0</th>\n",
       "      <th>countCnt0</th>\n",
       "      <th>count1</th>\n",
       "      <th>countCnt1</th>\n",
       "      <th>b0n0</th>\n",
       "      <th>b0n1</th>\n",
       "      <th>b0n2</th>\n",
       "      <th>b0n3</th>\n",
       "      <th>...</th>\n",
       "      <th>b0v0</th>\n",
       "      <th>b0v1</th>\n",
       "      <th>b0v2</th>\n",
       "      <th>b0v3</th>\n",
       "      <th>b0v4</th>\n",
       "      <th>b1v0</th>\n",
       "      <th>b1v1</th>\n",
       "      <th>b1v2</th>\n",
       "      <th>b1v3</th>\n",
       "      <th>b1v4</th>\n",
       "    </tr>\n",
       "  </thead>\n",
       "  <tbody>\n",
       "    <tr>\n",
       "      <th rowspan=\"2\" valign=\"top\">0</th>\n",
       "      <th>9</th>\n",
       "      <td>0.0</td>\n",
       "      <td>9.0</td>\n",
       "      <td>1.0</td>\n",
       "      <td>1.0</td>\n",
       "      <td>NaN</td>\n",
       "      <td>NaN</td>\n",
       "      <td>19.0</td>\n",
       "      <td>-1.0</td>\n",
       "      <td>-1.0</td>\n",
       "      <td>-1.0</td>\n",
       "      <td>...</td>\n",
       "      <td>1.0</td>\n",
       "      <td>-1.0</td>\n",
       "      <td>-1.0</td>\n",
       "      <td>-1.0</td>\n",
       "      <td>-1.0</td>\n",
       "      <td>NaN</td>\n",
       "      <td>NaN</td>\n",
       "      <td>NaN</td>\n",
       "      <td>NaN</td>\n",
       "      <td>NaN</td>\n",
       "    </tr>\n",
       "    <tr>\n",
       "      <th>12</th>\n",
       "      <td>0.0</td>\n",
       "      <td>12.0</td>\n",
       "      <td>5.0</td>\n",
       "      <td>6.0</td>\n",
       "      <td>NaN</td>\n",
       "      <td>NaN</td>\n",
       "      <td>28.0</td>\n",
       "      <td>40.0</td>\n",
       "      <td>56.0</td>\n",
       "      <td>72.0</td>\n",
       "      <td>...</td>\n",
       "      <td>1.0</td>\n",
       "      <td>1.0</td>\n",
       "      <td>1.0</td>\n",
       "      <td>1.0</td>\n",
       "      <td>1.0</td>\n",
       "      <td>NaN</td>\n",
       "      <td>NaN</td>\n",
       "      <td>NaN</td>\n",
       "      <td>NaN</td>\n",
       "      <td>NaN</td>\n",
       "    </tr>\n",
       "    <tr>\n",
       "      <th>1</th>\n",
       "      <th>11</th>\n",
       "      <td>1.0</td>\n",
       "      <td>11.0</td>\n",
       "      <td>4.0</td>\n",
       "      <td>4.0</td>\n",
       "      <td>NaN</td>\n",
       "      <td>NaN</td>\n",
       "      <td>20.0</td>\n",
       "      <td>60.0</td>\n",
       "      <td>-1.0</td>\n",
       "      <td>-1.0</td>\n",
       "      <td>...</td>\n",
       "      <td>3.0</td>\n",
       "      <td>1.0</td>\n",
       "      <td>-1.0</td>\n",
       "      <td>-1.0</td>\n",
       "      <td>-1.0</td>\n",
       "      <td>NaN</td>\n",
       "      <td>NaN</td>\n",
       "      <td>NaN</td>\n",
       "      <td>NaN</td>\n",
       "      <td>NaN</td>\n",
       "    </tr>\n",
       "    <tr>\n",
       "      <th rowspan=\"2\" valign=\"top\">3</th>\n",
       "      <th>2</th>\n",
       "      <td>3.0</td>\n",
       "      <td>2.0</td>\n",
       "      <td>5.0</td>\n",
       "      <td>5.0</td>\n",
       "      <td>NaN</td>\n",
       "      <td>NaN</td>\n",
       "      <td>94.0</td>\n",
       "      <td>5.0</td>\n",
       "      <td>47.0</td>\n",
       "      <td>48.0</td>\n",
       "      <td>...</td>\n",
       "      <td>2.0</td>\n",
       "      <td>1.0</td>\n",
       "      <td>1.0</td>\n",
       "      <td>1.0</td>\n",
       "      <td>-1.0</td>\n",
       "      <td>NaN</td>\n",
       "      <td>NaN</td>\n",
       "      <td>NaN</td>\n",
       "      <td>NaN</td>\n",
       "      <td>NaN</td>\n",
       "    </tr>\n",
       "    <tr>\n",
       "      <th>10</th>\n",
       "      <td>3.0</td>\n",
       "      <td>10.0</td>\n",
       "      <td>3.0</td>\n",
       "      <td>3.0</td>\n",
       "      <td>NaN</td>\n",
       "      <td>NaN</td>\n",
       "      <td>18.0</td>\n",
       "      <td>2.0</td>\n",
       "      <td>-1.0</td>\n",
       "      <td>-1.0</td>\n",
       "      <td>...</td>\n",
       "      <td>2.0</td>\n",
       "      <td>1.0</td>\n",
       "      <td>-1.0</td>\n",
       "      <td>-1.0</td>\n",
       "      <td>-1.0</td>\n",
       "      <td>NaN</td>\n",
       "      <td>NaN</td>\n",
       "      <td>NaN</td>\n",
       "      <td>NaN</td>\n",
       "      <td>NaN</td>\n",
       "    </tr>\n",
       "  </tbody>\n",
       "</table>\n",
       "<p>5 rows × 26 columns</p>\n",
       "</div>"
      ],
      "text/plain": [
       "      user_id  dt0m  count0  countCnt0  count1  countCnt1  b0n0  b0n1  b0n2  \\\n",
       "0 9       0.0   9.0     1.0        1.0     NaN        NaN  19.0  -1.0  -1.0   \n",
       "  12      0.0  12.0     5.0        6.0     NaN        NaN  28.0  40.0  56.0   \n",
       "1 11      1.0  11.0     4.0        4.0     NaN        NaN  20.0  60.0  -1.0   \n",
       "3 2       3.0   2.0     5.0        5.0     NaN        NaN  94.0   5.0  47.0   \n",
       "  10      3.0  10.0     3.0        3.0     NaN        NaN  18.0   2.0  -1.0   \n",
       "\n",
       "      b0n3  ...   b0v0  b0v1  b0v2  b0v3  b0v4  b1v0  b1v1  b1v2  b1v3  b1v4  \n",
       "0 9   -1.0  ...    1.0  -1.0  -1.0  -1.0  -1.0   NaN   NaN   NaN   NaN   NaN  \n",
       "  12  72.0  ...    1.0   1.0   1.0   1.0   1.0   NaN   NaN   NaN   NaN   NaN  \n",
       "1 11  -1.0  ...    3.0   1.0  -1.0  -1.0  -1.0   NaN   NaN   NaN   NaN   NaN  \n",
       "3 2   48.0  ...    2.0   1.0   1.0   1.0  -1.0   NaN   NaN   NaN   NaN   NaN  \n",
       "  10  -1.0  ...    2.0   1.0  -1.0  -1.0  -1.0   NaN   NaN   NaN   NaN   NaN  \n",
       "\n",
       "[5 rows x 26 columns]"
      ]
     },
     "execution_count": 52,
     "metadata": {},
     "output_type": "execute_result"
    }
   ],
   "source": [
    "ff.head()"
   ]
  },
  {
   "cell_type": "code",
   "execution_count": null,
   "metadata": {
    "collapsed": true
   },
   "outputs": [],
   "source": []
  }
 ],
 "metadata": {
  "kernelspec": {
   "display_name": "Python 3",
   "language": "python",
   "name": "python3"
  },
  "language_info": {
   "codemirror_mode": {
    "name": "ipython",
    "version": 3
   },
   "file_extension": ".py",
   "mimetype": "text/x-python",
   "name": "python",
   "nbconvert_exporter": "python",
   "pygments_lexer": "ipython3",
   "version": "3.5.1"
  }
 },
 "nbformat": 4,
 "nbformat_minor": 0
}
